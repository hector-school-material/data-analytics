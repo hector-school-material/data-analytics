{
 "cells": [
  {
   "attachments": {},
   "cell_type": "markdown",
   "id": "d1535ebd-625f-4e95-a38e-009a9660b155",
   "metadata": {},
   "source": [
    "# Working with Python, Jupyter, and Data in Python\n",
    "\n",
    "In this workbook, we will introduce some tools for handling data sets in a Python environment. \n",
    "\n",
    "As datasets often have to be preprocessed, cleaned, split, merged, or otherwise manipulated before an analytics pipeline an be started with a 'clean' dataset, these tools are needed in almost any data analytics process.\n",
    "\n",
    "## Goals of this Section\n",
    "- Have a basic understanding of Jupyter\n",
    "- Getting familiar with the Python programming language\n",
    "- Learning the very basics of `NumPy` and `Pandas`\n",
    "\n",
    "**This course will not suffice to give an in-depth introduction into the Python programming language.\n",
    "However, we will show you some basic concepts that should allow you to follow the lecture, create your own models based on given example, and evaluate and improve these models further.**"
   ]
  },
  {
   "cell_type": "markdown",
   "id": "e2e76a7a-36fd-4fa6-814b-22a27f64b470",
   "metadata": {},
   "source": [
    "## Python"
   ]
  },
  {
   "cell_type": "markdown",
   "id": "bdae5131-750b-45be-8e55-1455633101d2",
   "metadata": {},
   "source": [
    "Python is a programming language widely used for data manipulation. \n",
    "\n",
    "Unfortunately, we will not have the time to go more deeply into what Python has to offer. However, we will show you some very elemental basics.\n",
    "\n",
    "You can find a good Python tutorial here: https://www.w3schools.com/python/python_intro.asp"
   ]
  },
  {
   "cell_type": "markdown",
   "id": "78a6c9ae-9c50-4b65-8ac0-00d8cb1c2c15",
   "metadata": {},
   "source": [
    "Let's start off with printing `Hello World!` below a cell."
   ]
  },
  {
   "cell_type": "markdown",
   "id": "18f91b85-a0ab-46f1-bb5a-a677ac4bf166",
   "metadata": {},
   "source": [
    "### Hello World!"
   ]
  },
  {
   "cell_type": "code",
   "execution_count": 1,
   "id": "b9cd5877-e869-461a-b0c0-e68c5c80c634",
   "metadata": {},
   "outputs": [
    {
     "name": "stdout",
     "output_type": "stream",
     "text": [
      "Hello World!\n"
     ]
    }
   ],
   "source": [
    "print('Hello World!')"
   ]
  },
  {
   "cell_type": "code",
   "execution_count": 2,
   "id": "e7fd426c-3990-48eb-a866-5bd932068e85",
   "metadata": {},
   "outputs": [
    {
     "name": "stdout",
     "output_type": "stream",
     "text": [
      "Hello World!\n"
     ]
    }
   ],
   "source": [
    "# You can write comments inside code cells like this\n",
    "print('Hello World!') # And you can append comments to a line like this\n",
    "# Anything after the '#'-sign will be considered a comment, so the following print('Hello World') won't do anything here"
   ]
  },
  {
   "cell_type": "markdown",
   "id": "ecb01dc2-3b49-4f7f-b5c9-fe41a5e23f17",
   "metadata": {},
   "source": [
    "You can always check the built-in documentation / help! Just append `?` to variable, function name, ...!"
   ]
  },
  {
   "cell_type": "code",
   "execution_count": 3,
   "id": "2de572a0-af2b-44dc-8c90-d265adc48514",
   "metadata": {},
   "outputs": [
    {
     "data": {
      "text/plain": [
       "\u001b[1;31mSignature:\u001b[0m \u001b[0mprint\u001b[0m\u001b[1;33m(\u001b[0m\u001b[1;33m*\u001b[0m\u001b[0margs\u001b[0m\u001b[1;33m,\u001b[0m \u001b[0msep\u001b[0m\u001b[1;33m=\u001b[0m\u001b[1;34m' '\u001b[0m\u001b[1;33m,\u001b[0m \u001b[0mend\u001b[0m\u001b[1;33m=\u001b[0m\u001b[1;34m'\\n'\u001b[0m\u001b[1;33m,\u001b[0m \u001b[0mfile\u001b[0m\u001b[1;33m=\u001b[0m\u001b[1;32mNone\u001b[0m\u001b[1;33m,\u001b[0m \u001b[0mflush\u001b[0m\u001b[1;33m=\u001b[0m\u001b[1;32mFalse\u001b[0m\u001b[1;33m)\u001b[0m\u001b[1;33m\u001b[0m\u001b[1;33m\u001b[0m\u001b[0m\n",
       "\u001b[1;31mDocstring:\u001b[0m\n",
       "Prints the values to a stream, or to sys.stdout by default.\n",
       "\n",
       "sep\n",
       "  string inserted between values, default a space.\n",
       "end\n",
       "  string appended after the last value, default a newline.\n",
       "file\n",
       "  a file-like object (stream); defaults to the current sys.stdout.\n",
       "flush\n",
       "  whether to forcibly flush the stream.\n",
       "\u001b[1;31mType:\u001b[0m      builtin_function_or_method"
      ]
     },
     "metadata": {},
     "output_type": "display_data"
    }
   ],
   "source": [
    "print?"
   ]
  },
  {
   "cell_type": "markdown",
   "id": "c12ed6e8-31a2-4397-bd7f-b65f0b4ca0f8",
   "metadata": {},
   "source": [
    "### Variables and datatypes"
   ]
  },
  {
   "cell_type": "markdown",
   "id": "028da616-ebfd-4f75-803f-6f01f6df1cc2",
   "metadata": {},
   "source": [
    "Variables are declared using a single `=`-sign.\n",
    "Note: You do not need to declare the datatype with Python! It is automatically inferred from the values themselves."
   ]
  },
  {
   "cell_type": "code",
   "execution_count": 4,
   "id": "753d1a2d-6b82-44ff-846e-0c0fc3dc30da",
   "metadata": {},
   "outputs": [],
   "source": [
    "a = 101\n",
    "b = 'Hello World'\n",
    "c = True"
   ]
  },
  {
   "cell_type": "markdown",
   "id": "3414c94c-4e83-438f-820d-3552685afd75",
   "metadata": {},
   "source": [
    "As you can see above, you do not need a semicolon `;` to end a statement, you can simply continue on a new line. (You *can* use semicolons, but this is typically not done.)"
   ]
  },
  {
   "cell_type": "markdown",
   "id": "a530c244-91e4-46c6-a7e0-f3e9edea30c7",
   "metadata": {},
   "source": [
    "To print the value of a function, you'd normally use `print(...)`. However, Jupyter will automatically print the result of a cell:"
   ]
  },
  {
   "cell_type": "code",
   "execution_count": 5,
   "id": "7a9ee014-df79-4e0c-a4e3-5020e1324ea0",
   "metadata": {},
   "outputs": [
    {
     "data": {
      "text/plain": [
       "101"
      ]
     },
     "execution_count": 5,
     "metadata": {},
     "output_type": "execute_result"
    }
   ],
   "source": [
    "a"
   ]
  },
  {
   "cell_type": "markdown",
   "id": "dfcb12ef-c45b-41d5-8feb-bedada280110",
   "metadata": {},
   "source": [
    "---\n",
    "### &#x270d; Exercise \n",
    "\n",
    "Execute the following cell. \n",
    "\n",
    "Add a new cell (remember how?).\n",
    "\n",
    "Define a variable `c` that equals the sum of two values `a` and `b`. Print the result. Change the value of `b` and output the result again."
   ]
  },
  {
   "cell_type": "code",
   "execution_count": 6,
   "id": "9937ccfb-ba39-436b-9ca7-73c2c53e89ea",
   "metadata": {},
   "outputs": [
    {
     "data": {
      "text/plain": [
       "7"
      ]
     },
     "execution_count": 6,
     "metadata": {},
     "output_type": "execute_result"
    }
   ],
   "source": [
    "# YOUR CODE HERE\n",
    "a = 2\n",
    "b = 5\n",
    "c = a + b\n",
    "c"
   ]
  },
  {
   "cell_type": "code",
   "execution_count": 7,
   "id": "2c06456e-39ae-4cda-bca7-4fed5c589bc8",
   "metadata": {},
   "outputs": [
    {
     "data": {
      "text/plain": [
       "4"
      ]
     },
     "execution_count": 7,
     "metadata": {},
     "output_type": "execute_result"
    }
   ],
   "source": [
    "b = 2\n",
    "c = a + b\n",
    "c"
   ]
  },
  {
   "cell_type": "markdown",
   "id": "57b1e537-1a6a-43fb-9170-d0d268e3d70b",
   "metadata": {},
   "source": [
    "---"
   ]
  },
  {
   "cell_type": "markdown",
   "id": "759f240a-9bee-47b8-8ca8-2d2feeaf617f",
   "metadata": {},
   "source": [
    "There are a few datatypes you'll frequently see. We'll show you the most important ones. Use `type(...)` to find out, which datatype it is."
   ]
  },
  {
   "cell_type": "code",
   "execution_count": 8,
   "id": "7c393427-9d3a-4a89-935e-6dc4d511068e",
   "metadata": {},
   "outputs": [
    {
     "data": {
      "text/plain": [
       "int"
      ]
     },
     "execution_count": 8,
     "metadata": {},
     "output_type": "execute_result"
    }
   ],
   "source": [
    "# integer\n",
    "a = 1\n",
    "type(a)"
   ]
  },
  {
   "cell_type": "code",
   "execution_count": 9,
   "id": "28ae2d0e-fbf7-4620-9d2c-cb68dbd7f30d",
   "metadata": {},
   "outputs": [
    {
     "data": {
      "text/plain": [
       "float"
      ]
     },
     "execution_count": 9,
     "metadata": {},
     "output_type": "execute_result"
    }
   ],
   "source": [
    "# float\n",
    "b = 2.5\n",
    "type(b)"
   ]
  },
  {
   "cell_type": "code",
   "execution_count": 10,
   "id": "73cb7f0b-19b8-40b3-99f2-06afce430e6b",
   "metadata": {},
   "outputs": [
    {
     "data": {
      "text/plain": [
       "str"
      ]
     },
     "execution_count": 10,
     "metadata": {},
     "output_type": "execute_result"
    }
   ],
   "source": [
    "# string\n",
    "c = 'Hello World!'\n",
    "type(c)\n",
    "# note: there is no \"character\"-datatype -- that would just be a string of length 1"
   ]
  },
  {
   "cell_type": "code",
   "execution_count": 11,
   "id": "5e3130cb-2ef7-4280-af91-b8c32f26ac4d",
   "metadata": {},
   "outputs": [
    {
     "data": {
      "text/plain": [
       "bool"
      ]
     },
     "execution_count": 11,
     "metadata": {},
     "output_type": "execute_result"
    }
   ],
   "source": [
    "# bool(ean)\n",
    "g = True\n",
    "type(g)"
   ]
  },
  {
   "cell_type": "markdown",
   "id": "217e09fb-cabc-4fa2-a30a-2017a9c0bc39",
   "metadata": {},
   "source": [
    "### Basic operators"
   ]
  },
  {
   "cell_type": "markdown",
   "id": "ee768a23-1d8f-47c4-b9d5-33bc34bec70e",
   "metadata": {},
   "source": [
    "Various operators are available for calculations:\n",
    "\n",
    "- `+, -, *, /` behave as you most likely expect them to\n",
    "- `()` can be used to control the order of operations\n",
    "- `**`  is the power operator. $2^3$ is written as `2**3`"
   ]
  },
  {
   "cell_type": "markdown",
   "id": "70b0109a-8549-43ff-ba79-073986434e5a",
   "metadata": {},
   "source": [
    "---\n",
    "### &#x270d; Exercise \n",
    "\n",
    "Declare two variables: `a`, `b`.\n",
    "\n",
    "Write a brief program that calculates the following formula: $c = a^2 - \\sqrt{b}$.\n",
    "\n",
    "Choose values for `a` and `b` such that $c=0$."
   ]
  },
  {
   "cell_type": "code",
   "execution_count": 12,
   "id": "184ef02d-fe3e-4152-b16a-af25490fc581",
   "metadata": {},
   "outputs": [
    {
     "data": {
      "text/plain": [
       "0.0"
      ]
     },
     "execution_count": 12,
     "metadata": {},
     "output_type": "execute_result"
    }
   ],
   "source": [
    "# YOUR CODE HERE\n",
    "a = 3\n",
    "b = 81\n",
    "c = 3**2 - b**(0.5)\n",
    "c"
   ]
  },
  {
   "cell_type": "markdown",
   "id": "b6f8f90a-fed7-4525-ac78-bcbe859fd6ba",
   "metadata": {},
   "source": [
    "---"
   ]
  },
  {
   "cell_type": "markdown",
   "id": "b01c19e4-d442-49fa-8ded-b237273a20db",
   "metadata": {},
   "source": [
    "### Comparing variables"
   ]
  },
  {
   "cell_type": "markdown",
   "id": "310193e5-5a22-4efd-8685-2ddf0d14e424",
   "metadata": {},
   "source": [
    "You'll often use the following comparators:\n",
    "- `==` checks whether two values are equal\n",
    "- `!=` checks whether two values are not equal\n",
    "- `>` checks whether the left-hand value is greater than the right-hand value\n",
    "- `<` checks whether the left-hand value is smaller than the right-hand value\n",
    "- `>=` checks whether the left-hand value is greater than or equal to the right-hand value\n",
    "- `<=` checks whether the left-hand value is smaller than or equal to the right-hand value\n",
    "\n",
    "**Note: A single `=`-sign assigns a value to a variable whereas `==` compares two values!**"
   ]
  },
  {
   "cell_type": "markdown",
   "id": "39f3f69f-3bd2-44d9-b946-040a90c56b18",
   "metadata": {},
   "source": [
    "---\n",
    "### &#x270d; Exercise \n",
    "\n",
    "Consider the example above. Write a brief statement that checks whether $c=0$ holds. "
   ]
  },
  {
   "cell_type": "code",
   "execution_count": 13,
   "id": "0eb54dad-b134-4001-bc61-6090006c332e",
   "metadata": {},
   "outputs": [
    {
     "data": {
      "text/plain": [
       "True"
      ]
     },
     "execution_count": 13,
     "metadata": {},
     "output_type": "execute_result"
    }
   ],
   "source": [
    "# YOUR CODE HERE\n",
    "c == 0"
   ]
  },
  {
   "cell_type": "markdown",
   "id": "263168a2-c836-4fa6-bc50-3c03c2d82452",
   "metadata": {},
   "source": [
    "---"
   ]
  },
  {
   "cell_type": "markdown",
   "id": "382245db-dc62-428d-a6d1-3cc733c5b543",
   "metadata": {},
   "source": [
    "### Formatting code, if/else, and loops"
   ]
  },
  {
   "cell_type": "markdown",
   "id": "4b3cfd07-3832-4200-b91e-f71847509c31",
   "metadata": {},
   "source": [
    "Python also does not use brackets (`{...}`) to group statements together. Instead, it uses whitespaces:"
   ]
  },
  {
   "cell_type": "code",
   "execution_count": 14,
   "id": "2199ccf3-eb4a-43ce-9d95-888a19174180",
   "metadata": {},
   "outputs": [
    {
     "ename": "IndentationError",
     "evalue": "unexpected indent (1323090703.py, line 3)",
     "output_type": "error",
     "traceback": [
      "\u001b[1;36m  Cell \u001b[1;32mIn[14], line 3\u001b[1;36m\u001b[0m\n\u001b[1;33m    print('Value is', i)\u001b[0m\n\u001b[1;37m    ^\u001b[0m\n\u001b[1;31mIndentationError\u001b[0m\u001b[1;31m:\u001b[0m unexpected indent\n"
     ]
    }
   ],
   "source": [
    "i = 5\n",
    "# Error below! Notice a single space at the start of the line\n",
    " print('Value is', i)"
   ]
  },
  {
   "cell_type": "markdown",
   "id": "c6a683c1-3566-4cb6-96cb-54e889d1606c",
   "metadata": {},
   "source": [
    "We recommend you use 4 spaces at the beginning of an indentation.\n",
    "\n",
    "This allows to write statements rather cleanly, e.g.:"
   ]
  },
  {
   "cell_type": "code",
   "execution_count": 15,
   "id": "dbb965cc-f31f-46f3-8a01-5b8ad224f54d",
   "metadata": {},
   "outputs": [
    {
     "name": "stdin",
     "output_type": "stream",
     "text": [
      "Enter an integer :  10\n"
     ]
    },
    {
     "name": "stdout",
     "output_type": "stream",
     "text": [
      "How did you do that?\n"
     ]
    }
   ],
   "source": [
    "number = 10\n",
    "guess = int(input('Enter an integer : '))\n",
    "\n",
    "if guess == number:\n",
    "    print('How did you do that?')\n",
    "elif guess < number:\n",
    "    print('Too low!')\n",
    "else:\n",
    "    print('Too high!')"
   ]
  },
  {
   "cell_type": "markdown",
   "id": "6deb1cfa-5bc4-469a-ab10-9d676063115f",
   "metadata": {},
   "source": [
    "`for`-loops can be created like this."
   ]
  },
  {
   "cell_type": "code",
   "execution_count": 16,
   "id": "3feeeb99-135a-4d55-85c9-f8e6f1c8d4e8",
   "metadata": {},
   "outputs": [
    {
     "name": "stdout",
     "output_type": "stream",
     "text": [
      "0\n",
      "1\n",
      "2\n",
      "3\n",
      "4\n"
     ]
    }
   ],
   "source": [
    "for i in range(5):\n",
    "    print(i)"
   ]
  },
  {
   "cell_type": "markdown",
   "id": "e5d516e9-0f85-454e-951f-a35cf3948192",
   "metadata": {},
   "source": [
    "You can also state the start (inclusive) and end (exclusive) value explicitly:"
   ]
  },
  {
   "cell_type": "code",
   "execution_count": 17,
   "id": "7185fb82-ec1e-4f31-aa1e-b6d7a07a3d78",
   "metadata": {},
   "outputs": [
    {
     "name": "stdout",
     "output_type": "stream",
     "text": [
      "0\n",
      "1\n",
      "2\n",
      "3\n",
      "4\n"
     ]
    }
   ],
   "source": [
    "for i in range (0, 5):\n",
    "    print (i)"
   ]
  },
  {
   "cell_type": "markdown",
   "id": "4924fc01-89a6-4cfa-9b0b-867204df0d9c",
   "metadata": {},
   "source": [
    "Moreover, you can specify the increments:"
   ]
  },
  {
   "cell_type": "code",
   "execution_count": 18,
   "id": "26835473-3845-4a96-8cff-1fde2e626e98",
   "metadata": {},
   "outputs": [
    {
     "name": "stdout",
     "output_type": "stream",
     "text": [
      "0\n",
      "3\n"
     ]
    }
   ],
   "source": [
    "for i in range (0,5,3):\n",
    "    print (i)"
   ]
  },
  {
   "cell_type": "markdown",
   "id": "9a61ba2a-8e66-4592-8b01-69ede19b7dea",
   "metadata": {},
   "source": [
    "---\n",
    "### &#x270d; Exercise \n",
    "\n",
    "Write a statement listing every *positive, even* value in the range from 1 to 10 (inclusive)."
   ]
  },
  {
   "cell_type": "code",
   "execution_count": 19,
   "id": "1835eb49-6e12-414b-a4d4-62d57ffca130",
   "metadata": {},
   "outputs": [
    {
     "name": "stdout",
     "output_type": "stream",
     "text": [
      "2\n",
      "4\n",
      "6\n",
      "8\n",
      "10\n"
     ]
    }
   ],
   "source": [
    "for i in range (2, 11, 2):\n",
    "    print (i)"
   ]
  },
  {
   "cell_type": "markdown",
   "id": "5fda08f0-19f2-4949-b2ce-f3b6efc5633e",
   "metadata": {},
   "source": [
    "\n",
    "Write a loop that computes $\\sum_{i=1}^{5}2i$. Output the after each increment together with the final result."
   ]
  },
  {
   "cell_type": "code",
   "execution_count": 20,
   "id": "595222e0-42b1-4592-a0a2-dbc4de75b5db",
   "metadata": {},
   "outputs": [
    {
     "name": "stdout",
     "output_type": "stream",
     "text": [
      "2\n",
      "6\n",
      "12\n",
      "20\n",
      "30\n",
      "The sum is:  30\n"
     ]
    }
   ],
   "source": [
    "# YOUR CODE HERE\n",
    "\n",
    "# Initialize the sum to 0\n",
    "sum = 0\n",
    "\n",
    "# Loop from 1 to 5 (inclusive)\n",
    "for i in range(1, 6):\n",
    "    # Add 2i to the sum\n",
    "    sum += 2*i\n",
    "    print (sum)\n",
    "\n",
    "# Print the result\n",
    "print(\"The sum is: \", sum)"
   ]
  },
  {
   "cell_type": "markdown",
   "id": "c414a8fd-1bf2-4c09-a654-4d0d683aaa25",
   "metadata": {},
   "source": [
    "Remember the exercise above. Again, please write a brief program that calculates the following formula: $c = a^2 - \\sqrt{b}$.\n",
    "\n",
    "Now, compare $c$ to `0` in an `if` statement and output the result of the comparison. \n"
   ]
  },
  {
   "cell_type": "code",
   "execution_count": 21,
   "id": "820bed96-4858-44ad-8c5f-e93317dfb623",
   "metadata": {},
   "outputs": [
    {
     "name": "stdout",
     "output_type": "stream",
     "text": [
      "c is greater than 0\n"
     ]
    }
   ],
   "source": [
    "# YOUR CODE HERE\n",
    "\n",
    "# Step 1: Declare the variables\n",
    "a = 2\n",
    "b = 4\n",
    "\n",
    "# Step 2: Calculate c\n",
    "c = a**2 - b**(0.5)\n",
    "\n",
    "# Step 3: Compare c to 0 and print the result\n",
    "if c > 0:\n",
    "    print(\"c is greater than 0\")\n",
    "elif c < 0:\n",
    "    print(\"c is less than 0\")\n",
    "else:\n",
    "    print(\"c is equal to 0\")"
   ]
  },
  {
   "cell_type": "markdown",
   "id": "d39891ac-681c-4395-8fa3-f755480708b0",
   "metadata": {},
   "source": [
    "---"
   ]
  },
  {
   "cell_type": "markdown",
   "id": "240e849a-187a-4c49-b22e-320117a9ca92",
   "metadata": {},
   "source": [
    "### Functions\n",
    "We'll be *using* functions a lot. But creating them is very simple, too. Here is how you'd do that."
   ]
  },
  {
   "cell_type": "code",
   "execution_count": 22,
   "id": "a5772fd7-80c6-4bf8-90fd-64b79f003f24",
   "metadata": {},
   "outputs": [],
   "source": [
    "def my_first_function():\n",
    "    print('Hello World!')"
   ]
  },
  {
   "cell_type": "code",
   "execution_count": 23,
   "id": "77aa4563-40bc-459b-834f-73f245f35f46",
   "metadata": {},
   "outputs": [
    {
     "data": {
      "text/plain": [
       "function"
      ]
     },
     "execution_count": 23,
     "metadata": {},
     "output_type": "execute_result"
    }
   ],
   "source": [
    "type(my_first_function)"
   ]
  },
  {
   "cell_type": "markdown",
   "id": "628b04d5-752e-4d91-9ce7-03a4042c0937",
   "metadata": {},
   "source": [
    "You can call the function by appending '()' to its name."
   ]
  },
  {
   "cell_type": "code",
   "execution_count": 24,
   "id": "1d522ad5-ed2f-4d6f-b0c2-f2c38dc4bb3a",
   "metadata": {},
   "outputs": [
    {
     "name": "stdout",
     "output_type": "stream",
     "text": [
      "Hello World!\n"
     ]
    }
   ],
   "source": [
    "my_first_function()"
   ]
  },
  {
   "cell_type": "code",
   "execution_count": 25,
   "id": "9df21c3d-d45e-4c37-9d9b-9cb3f5a4c8cc",
   "metadata": {},
   "outputs": [],
   "source": [
    "def my_second_function(x):\n",
    "    print('You wrote', x)"
   ]
  },
  {
   "cell_type": "code",
   "execution_count": 26,
   "id": "23618484-a4b0-434e-86dc-3510268e87f5",
   "metadata": {},
   "outputs": [
    {
     "name": "stdout",
     "output_type": "stream",
     "text": [
      "You wrote Hello World!\n"
     ]
    }
   ],
   "source": [
    "my_second_function('Hello World!')"
   ]
  },
  {
   "cell_type": "markdown",
   "id": "197ac651-0b2c-40b8-b80d-77a96d0d2602",
   "metadata": {},
   "source": [
    "Libraries in Python provide functions for you to use.\n",
    "One example ist the `math` library, that, for example, offers a function to compute the square root of a variable:"
   ]
  },
  {
   "cell_type": "code",
   "execution_count": 27,
   "id": "6779d6ca-1544-401f-822e-6b2ff07417c9",
   "metadata": {},
   "outputs": [
    {
     "name": "stdout",
     "output_type": "stream",
     "text": [
      "3.0\n"
     ]
    }
   ],
   "source": [
    "import math\n",
    "print (math.sqrt(9))"
   ]
  },
  {
   "cell_type": "markdown",
   "id": "8bc99d7a-329b-4e06-94f4-031d0fa82f58",
   "metadata": {},
   "source": [
    "---\n",
    "### &#x270d; Exercise \n",
    "\n",
    "Use the `math` library to define a function for computing the value of `c` as stated above.\n",
    "\n",
    "Make use of the `sqrt` function!\n",
    "\n",
    "Write a function encapsulating your if-else-statement. Check your result."
   ]
  },
  {
   "cell_type": "code",
   "execution_count": 28,
   "id": "6c4db434-d9f6-4ca7-bcd7-4be471b5f851",
   "metadata": {},
   "outputs": [],
   "source": [
    "# YOUR CODE HERE \n",
    "def compute_c(a, b):\n",
    "    return a**2 - math.sqrt(b)"
   ]
  },
  {
   "cell_type": "code",
   "execution_count": 29,
   "id": "e64255a1-bc04-4ade-b053-6531542390ea",
   "metadata": {},
   "outputs": [],
   "source": [
    "def check_c(c):\n",
    "    if c > 0:\n",
    "        print(\"c is greater than 0\")\n",
    "    elif c < 0:\n",
    "        print(\"c is less than 0\")\n",
    "    else:\n",
    "        print(\"c is equal to 0\")"
   ]
  },
  {
   "cell_type": "code",
   "execution_count": 30,
   "id": "329e3b77-7930-4193-a880-d8392ed6933a",
   "metadata": {},
   "outputs": [
    {
     "name": "stdout",
     "output_type": "stream",
     "text": [
      "c is greater than 0\n"
     ]
    }
   ],
   "source": [
    "a = 2\n",
    "b = 4\n",
    "\n",
    "c = compute_c(a,b)\n",
    "check_c(c)"
   ]
  },
  {
   "cell_type": "markdown",
   "id": "c9d951f8-b0ac-4fc2-b833-d9eaed7b7387",
   "metadata": {},
   "source": [
    "---"
   ]
  },
  {
   "cell_type": "markdown",
   "id": "751531a5-b1df-44cc-b954-ac3eaf5d7b3a",
   "metadata": {},
   "source": [
    "### Lists and Dictionaries"
   ]
  },
  {
   "cell_type": "markdown",
   "id": "38a0c62b-c9a6-4f3e-9507-12d921c2d90e",
   "metadata": {},
   "source": [
    "A list is a built-in data structure that can be used to store a collection of items. Lists are mutable, which means you can add, remove, or change elements after the list is created.\n",
    "\n",
    "Lists are defined by enclosing a comma-separated sequence of objects in square brackets `[]`. The elements of a list can be of different types: integers, floats, strings, and even other lists.\n",
    "\n",
    "Here's an example of a list in Python:"
   ]
  },
  {
   "cell_type": "code",
   "execution_count": 31,
   "id": "19c715f8-2e47-49ae-9d6c-53c3347831ad",
   "metadata": {},
   "outputs": [
    {
     "data": {
      "text/plain": [
       "list"
      ]
     },
     "execution_count": 31,
     "metadata": {},
     "output_type": "execute_result"
    }
   ],
   "source": [
    "# list (also called 'array' in other languages)\n",
    "d = [1, 2, 3]\n",
    "type(d)"
   ]
  },
  {
   "cell_type": "code",
   "execution_count": 32,
   "id": "34fc7fae-b57a-4819-84a7-8c7cd21e90e6",
   "metadata": {},
   "outputs": [],
   "source": [
    "my_list = [1, 2, 'apple', 4.5]"
   ]
  },
  {
   "cell_type": "markdown",
   "id": "2a95a6b1-49e9-4c2a-874a-72f3c7cd8e98",
   "metadata": {},
   "source": [
    "You can access elements from the list by their index. Python uses zero-based indexing, so the first element is at index 0, the second element is at index 1, and so on. For example, `my_list[2]` would return `apple`.\n",
    "\n"
   ]
  },
  {
   "cell_type": "markdown",
   "id": "1285b74c-735d-4ede-8f61-07fb8197b3df",
   "metadata": {},
   "source": [
    "The length of a list can be determined by the command `len`:"
   ]
  },
  {
   "cell_type": "code",
   "execution_count": 33,
   "id": "7b164153-9712-4503-b22c-d2b7654d6170",
   "metadata": {},
   "outputs": [
    {
     "data": {
      "text/plain": [
       "3"
      ]
     },
     "execution_count": 33,
     "metadata": {},
     "output_type": "execute_result"
    }
   ],
   "source": [
    "len(d)"
   ]
  },
  {
   "cell_type": "code",
   "execution_count": 34,
   "id": "a6760781-ccfb-4a36-a46b-81ad892a28b0",
   "metadata": {},
   "outputs": [
    {
     "data": {
      "text/plain": [
       "4"
      ]
     },
     "execution_count": 34,
     "metadata": {},
     "output_type": "execute_result"
    }
   ],
   "source": [
    "len(my_list)"
   ]
  },
  {
   "cell_type": "markdown",
   "id": "d162f049-eac5-41a0-93ae-12e0ec18b893",
   "metadata": {},
   "source": [
    "Dictionaries are another way of storing data.\n",
    "\n",
    "A dictionary is a collection of key-value pairs. A dictionary is identified by curly brackets `{}`. \n",
    "\n",
    "The keys and values in a dictionary are separated by double dots `:`. "
   ]
  },
  {
   "cell_type": "code",
   "execution_count": 35,
   "id": "49849a37-c560-49d8-83f3-5a52f0b33a3b",
   "metadata": {},
   "outputs": [
    {
     "data": {
      "text/plain": [
       "{'key1': 1, 'key2': 'a string', 'key3': 2.5}"
      ]
     },
     "execution_count": 35,
     "metadata": {},
     "output_type": "execute_result"
    }
   ],
   "source": [
    "# dict (key-value-structure)\n",
    "e = {'key1': 1, 'key2': 'a string', 'key3': 2.5}\n",
    "e"
   ]
  },
  {
   "cell_type": "markdown",
   "id": "47c04725-0564-4d28-91dc-f3614100965a",
   "metadata": {},
   "source": [
    "New values can be assigned as follows:"
   ]
  },
  {
   "cell_type": "code",
   "execution_count": 36,
   "id": "18e39799-bdbe-4fa7-9dca-2c850ae0a422",
   "metadata": {},
   "outputs": [
    {
     "data": {
      "text/plain": [
       "{'key1': 1, 'key2': 'a string', 'key3': 4}"
      ]
     },
     "execution_count": 36,
     "metadata": {},
     "output_type": "execute_result"
    }
   ],
   "source": [
    "e['key3'] = 4\n",
    "e"
   ]
  },
  {
   "cell_type": "markdown",
   "id": "f862ccf7-3965-42ac-aca4-01ee22e1b64c",
   "metadata": {},
   "source": [
    "---\n",
    "### &#x270d; Exercise "
   ]
  },
  {
   "cell_type": "markdown",
   "id": "ea626161-b644-4269-9d70-92fd9600e66d",
   "metadata": {},
   "source": [
    "Below, we have declared two lists. \n",
    "\n",
    "Create a new dictionary and store pairs of keys and values, i.e., fruits as keys and the respective number as value."
   ]
  },
  {
   "cell_type": "code",
   "execution_count": 37,
   "id": "d7bea25d-c189-4bce-bdf7-d547b248d2d6",
   "metadata": {},
   "outputs": [
    {
     "name": "stdout",
     "output_type": "stream",
     "text": [
      "{'apple': 1, 'banana': 2, 'cherry': 3}\n",
      "{'apple': 1, 'banana': 2, 'cherry': 3}\n"
     ]
    }
   ],
   "source": [
    "keys = ['apple', 'banana', 'cherry']\n",
    "values = [1, 2, 3]\n",
    "\n",
    "# YOUR CODE HERE\n",
    "\n",
    "# Initialize an empty dictionary\n",
    "fruit_dict = {}\n",
    "\n",
    "# Merge the lists into a dictionary using a loop\n",
    "# NOTE: This can be written more succinctly. The long example is used to illustrate the behavior of lists and dictionaries.\n",
    "for index in range(0, len(keys)):\n",
    "    key = keys[index]\n",
    "    value = values[index]\n",
    "    fruit_dict[key] = value\n",
    "\n",
    "print(fruit_dict)  # Outputs: {'apple': 1, 'banana': 2, 'cherry': 3}\n",
    "\n",
    "# More elegantly:\n",
    "fruit_dict = dict(zip(keys, values))\n",
    "# Or:\n",
    "fruit_dict = {k : v for k, v in zip(keys, values)}\n",
    "print(fruit_dict)"
   ]
  },
  {
   "cell_type": "markdown",
   "id": "88d66d87-9324-454d-ab1d-ef2fee0ce42c",
   "metadata": {},
   "source": [
    "---"
   ]
  },
  {
   "cell_type": "markdown",
   "id": "6fb275f3-76e3-4e30-a285-62a3caf7f3ee",
   "metadata": {},
   "source": [
    "## Working with Data in Python"
   ]
  },
  {
   "cell_type": "markdown",
   "id": "3af15528-8317-47a4-8518-f2e80f81cac6",
   "metadata": {},
   "source": [
    "While \"simple\" Python is quite powerful (i.e., you can do about everything with the language already), we use dedicated libraries to work with data. \n",
    "\n",
    "These libraries offer functionalities that make data operations (a lot) easier and more efficient. \n",
    "\n",
    "First, we *import* the libraries that provide functionalities for handling and manipulating data sets:"
   ]
  },
  {
   "cell_type": "code",
   "execution_count": 38,
   "id": "1e3b9e49-b8a1-4dc7-9174-86de2b2faa8e",
   "metadata": {},
   "outputs": [],
   "source": [
    "import numpy as np\n",
    "import pandas as pd"
   ]
  },
  {
   "cell_type": "markdown",
   "id": "b94c489d-b5ad-4cf5-ac34-881b534d6319",
   "metadata": {},
   "source": [
    "Note: The two libraries sometimes seem similar, but offer somewhat different functionalities.  `pandas` works on data structures called *DataFrames* and *Series*, which describe tabular (two-dimensional) data. `NumPy` is for working on multidimensional arrays. Depending on your data and on the tools you use, you will likely encounter both libraries."
   ]
  },
  {
   "cell_type": "markdown",
   "id": "06cc60ee-2a4e-43a7-ad49-96bbda54a6f4",
   "metadata": {},
   "source": [
    "## Basics of `NumPy`"
   ]
  },
  {
   "cell_type": "markdown",
   "id": "101033a5-3fa9-4c55-b91d-d89137c12b87",
   "metadata": {},
   "source": [
    "`NumPy` provides functionality to work with n-dimensional data, e.g. \"arrays\".\n",
    "\n",
    "Why would we need that? We have arrays (lists) in Python, don't we? Let's see."
   ]
  },
  {
   "cell_type": "code",
   "execution_count": 39,
   "id": "196db3e2-9fa2-43ad-aaff-c0ca49afd7c0",
   "metadata": {},
   "outputs": [],
   "source": [
    "vec1 = [1, 2, 3]\n",
    "vec2 = [4, 5, 6]"
   ]
  },
  {
   "cell_type": "code",
   "execution_count": 40,
   "id": "a75111a9-37a5-4999-be27-ccd58cc7bbfd",
   "metadata": {},
   "outputs": [
    {
     "data": {
      "text/plain": [
       "[1, 2, 3, 4, 5, 6]"
      ]
     },
     "execution_count": 40,
     "metadata": {},
     "output_type": "execute_result"
    }
   ],
   "source": [
    "# Now, let's add them:\n",
    "vec1 + vec2"
   ]
  },
  {
   "cell_type": "markdown",
   "id": "c4fa5efa-a805-44db-871b-c4eb913ca591",
   "metadata": {},
   "source": [
    "As you can see, Python \"added\" them. But probably not in the way we intended! If you want *mathematical* operations on arrays (vectors), you need another library if you don't want to do it manually!"
   ]
  },
  {
   "cell_type": "markdown",
   "id": "683d2cec-e708-4e68-8391-0ed44c4e81ad",
   "metadata": {},
   "source": [
    "### Array creation\n",
    "\n",
    "In this section, we focus on some tools for array manipulation. \n",
    "\n",
    "First, we create a one-dimensional array, i.e., a vector. "
   ]
  },
  {
   "cell_type": "code",
   "execution_count": 41,
   "id": "fa6d2c2f-f6e3-4bc1-97e6-29a9ff73adc7",
   "metadata": {},
   "outputs": [],
   "source": [
    "x = np.array([3, 4, 5])\n",
    "y = np.array([4, 9, 7])"
   ]
  },
  {
   "cell_type": "markdown",
   "id": "c826670a-b178-491a-9321-48461387feec",
   "metadata": {},
   "source": [
    "You can do simple mathematical operations on these arrays just as you would do with \"primitive\" integer variables: "
   ]
  },
  {
   "cell_type": "code",
   "execution_count": 42,
   "id": "393d14d5-a33a-488d-9fa9-e062d29dac5d",
   "metadata": {},
   "outputs": [
    {
     "data": {
      "text/plain": [
       "array([ 7, 13, 12])"
      ]
     },
     "execution_count": 42,
     "metadata": {},
     "output_type": "execute_result"
    }
   ],
   "source": [
    "x + y"
   ]
  },
  {
   "cell_type": "markdown",
   "id": "4ca49e74-3b26-40d9-88ad-77619577572a",
   "metadata": {},
   "source": [
    "$n$-dimensional arrays can be represented as follows"
   ]
  },
  {
   "cell_type": "code",
   "execution_count": 43,
   "id": "e5e13d40-2b42-48c0-b89e-2fd022c547c0",
   "metadata": {},
   "outputs": [
    {
     "data": {
      "text/plain": [
       "array([[1, 2, 5],\n",
       "       [3, 4, 6]])"
      ]
     },
     "execution_count": 43,
     "metadata": {},
     "output_type": "execute_result"
    }
   ],
   "source": [
    "x = np.array([[1, 2, 5], [3, 4, 6]])\n",
    "x"
   ]
  },
  {
   "cell_type": "markdown",
   "id": "f70e6d49-6dfa-4bbb-96ee-01a5238af03f",
   "metadata": {},
   "source": [
    "### Array indexing and slicing\n",
    "\n",
    "The `x` data array above is a $2 \\times 3$, which we can verify using its `shape` attribute: "
   ]
  },
  {
   "cell_type": "code",
   "execution_count": 44,
   "id": "41c871a0-41ce-46c1-aa42-5c5151cb32f0",
   "metadata": {},
   "outputs": [
    {
     "data": {
      "text/plain": [
       "(2, 3)"
      ]
     },
     "execution_count": 44,
     "metadata": {},
     "output_type": "execute_result"
    }
   ],
   "source": [
    "x.shape"
   ]
  },
  {
   "cell_type": "markdown",
   "id": "989d6030-4045-4ec8-b31b-ce9d9e61c688",
   "metadata": {},
   "source": [
    "You can access elements of this array as follows. Note that `NumPy` starts indexing with 0 (as do most programming languages).\n",
    "\n",
    "As you can see, accessing both rows, columns and single values are possible:"
   ]
  },
  {
   "cell_type": "code",
   "execution_count": 45,
   "id": "047aeb8b-b443-41f2-b8c3-aa715ff0c352",
   "metadata": {},
   "outputs": [
    {
     "data": {
      "text/plain": [
       "array([1, 2, 5])"
      ]
     },
     "execution_count": 45,
     "metadata": {},
     "output_type": "execute_result"
    }
   ],
   "source": [
    "x[0]"
   ]
  },
  {
   "cell_type": "markdown",
   "id": "3852813b-a6a1-4cae-aef9-b22bed45744a",
   "metadata": {},
   "source": [
    "---\n",
    "### &#x270d; Exercise \n",
    "\n",
    "Execute the two following cells.\n",
    "\n",
    "How does the indexing work?"
   ]
  },
  {
   "cell_type": "code",
   "execution_count": 46,
   "id": "ace6c1ba-db5f-4752-98ff-4f3943a79470",
   "metadata": {},
   "outputs": [
    {
     "data": {
      "text/plain": [
       "np.int64(4)"
      ]
     },
     "execution_count": 46,
     "metadata": {},
     "output_type": "execute_result"
    }
   ],
   "source": [
    "x[1,1]"
   ]
  },
  {
   "cell_type": "code",
   "execution_count": 47,
   "id": "81373a92-562d-4056-a514-d67ea6da01f4",
   "metadata": {},
   "outputs": [
    {
     "data": {
      "text/plain": [
       "array([1, 3])"
      ]
     },
     "execution_count": 47,
     "metadata": {},
     "output_type": "execute_result"
    }
   ],
   "source": [
    "x[:,0]"
   ]
  },
  {
   "cell_type": "markdown",
   "id": "84e67aad-e576-4ae6-b349-dd3849ac04c7",
   "metadata": {},
   "source": [
    "Look at the results above and try to make sense of the commands and the results!"
   ]
  },
  {
   "cell_type": "markdown",
   "id": "d547d9bd-f863-4949-9a9b-abad88acc8e8",
   "metadata": {},
   "source": [
    "-------"
   ]
  },
  {
   "cell_type": "markdown",
   "id": "1ed92f54-c06a-468b-9c73-2352d3124209",
   "metadata": {},
   "source": [
    "### Basic array operations"
   ]
  },
  {
   "cell_type": "markdown",
   "id": "431d1c57-7fff-4120-9bb9-06aa1a67bb30",
   "metadata": {},
   "source": [
    "`NumPy` offers various other functions that can be applied to the data objects. Try the following!\n",
    "\n",
    "Note: This would of course not work with \"standard\" Python lists. That is why we use `NumPy`!"
   ]
  },
  {
   "cell_type": "code",
   "execution_count": 48,
   "id": "6f4e76cf-4a88-42a5-a62f-c017c4d6c01c",
   "metadata": {},
   "outputs": [
    {
     "data": {
      "text/plain": [
       "np.float64(3.5)"
      ]
     },
     "execution_count": 48,
     "metadata": {},
     "output_type": "execute_result"
    }
   ],
   "source": [
    "x.mean()"
   ]
  },
  {
   "cell_type": "code",
   "execution_count": 49,
   "id": "82f4b149-76bd-45d8-abbf-d97694250b27",
   "metadata": {},
   "outputs": [
    {
     "data": {
      "text/plain": [
       "np.float64(2.9166666666666665)"
      ]
     },
     "execution_count": 49,
     "metadata": {},
     "output_type": "execute_result"
    }
   ],
   "source": [
    "x.var()"
   ]
  },
  {
   "cell_type": "code",
   "execution_count": 50,
   "id": "de3a14b9-4e90-41e4-b6b5-258e4244fc0f",
   "metadata": {},
   "outputs": [
    {
     "data": {
      "text/plain": [
       "np.float64(4.333333333333333)"
      ]
     },
     "execution_count": 50,
     "metadata": {},
     "output_type": "execute_result"
    }
   ],
   "source": [
    "x[1].mean()"
   ]
  },
  {
   "cell_type": "code",
   "execution_count": 51,
   "id": "2cdbfeca-16ec-4314-8d4f-191f3a2ed58d",
   "metadata": {},
   "outputs": [
    {
     "data": {
      "text/plain": [
       "np.int64(1)"
      ]
     },
     "execution_count": 51,
     "metadata": {},
     "output_type": "execute_result"
    }
   ],
   "source": [
    "x.min()"
   ]
  },
  {
   "cell_type": "code",
   "execution_count": 52,
   "id": "6a159def-c351-4a4d-8724-d4a2e64ae3b6",
   "metadata": {},
   "outputs": [
    {
     "data": {
      "text/plain": [
       "array([1, 2, 5])"
      ]
     },
     "execution_count": 52,
     "metadata": {},
     "output_type": "execute_result"
    }
   ],
   "source": [
    "# calculate the minimum of each column (\"axis=0\")\n",
    "x.min(axis=0)"
   ]
  },
  {
   "cell_type": "code",
   "execution_count": 53,
   "id": "a2eb90a0-c88d-43e8-8446-d4edda805da4",
   "metadata": {},
   "outputs": [
    {
     "data": {
      "text/plain": [
       "array([5, 6])"
      ]
     },
     "execution_count": 53,
     "metadata": {},
     "output_type": "execute_result"
    }
   ],
   "source": [
    "# calculate the maximum of each row (\"axis=1\")\n",
    "x.max(axis=1)"
   ]
  },
  {
   "cell_type": "code",
   "execution_count": 54,
   "id": "2cf0ef53-af55-41f2-b3aa-77039bfd8c9b",
   "metadata": {},
   "outputs": [
    {
     "data": {
      "text/plain": [
       "array([[ 1,  4, 25],\n",
       "       [ 9, 16, 36]])"
      ]
     },
     "execution_count": 54,
     "metadata": {},
     "output_type": "execute_result"
    }
   ],
   "source": [
    "# element-wise calculation of the power of n\n",
    "x**2"
   ]
  },
  {
   "cell_type": "code",
   "execution_count": 55,
   "id": "51e3a4bf-2abf-4e06-a156-368763f69e39",
   "metadata": {},
   "outputs": [
    {
     "data": {
      "text/plain": [
       "array([[1, 2, 5],\n",
       "       [3, 4, 6]])"
      ]
     },
     "execution_count": 55,
     "metadata": {},
     "output_type": "execute_result"
    }
   ],
   "source": [
    "x.sort()\n",
    "x"
   ]
  },
  {
   "cell_type": "code",
   "execution_count": 56,
   "id": "3805e7c4-4652-40f0-9d04-4b0d1602f9e3",
   "metadata": {},
   "outputs": [
    {
     "data": {
      "text/plain": [
       "array([11, 12, 13, 14, 15, 16, 17, 18, 19, 20])"
      ]
     },
     "execution_count": 56,
     "metadata": {},
     "output_type": "execute_result"
    }
   ],
   "source": [
    "a = np.array([11, 11, 12, 13, 14, 15, 16, 17, 12, 13, 11, 14, 18, 19, 20])\n",
    "unique_values = np.unique(a)\n",
    "unique_values"
   ]
  },
  {
   "cell_type": "code",
   "execution_count": 57,
   "id": "d41cd5b1-76f5-48a9-815b-d73d019e77df",
   "metadata": {},
   "outputs": [
    {
     "data": {
      "text/plain": [
       "array([3, 2, 2, 2, 1, 1, 1, 1, 1, 1])"
      ]
     },
     "execution_count": 57,
     "metadata": {},
     "output_type": "execute_result"
    }
   ],
   "source": [
    "unique_values, occurrence_count = np.unique(a, return_counts=True)\n",
    "occurrence_count"
   ]
  },
  {
   "cell_type": "code",
   "execution_count": 58,
   "id": "b7afcc1b-ef60-4a08-b5a2-b50a9e57ff9c",
   "metadata": {},
   "outputs": [
    {
     "data": {
      "text/plain": [
       "array([11, 12, 13, 14, 15, 16, 17, 18, 19, 20])"
      ]
     },
     "execution_count": 58,
     "metadata": {},
     "output_type": "execute_result"
    }
   ],
   "source": [
    "unique_values"
   ]
  },
  {
   "cell_type": "code",
   "execution_count": 59,
   "id": "5913cffb-9895-4584-a044-2a2f3539a2a2",
   "metadata": {},
   "outputs": [
    {
     "data": {
      "text/plain": [
       "array([ True,  True,  True,  True,  True, False, False, False,  True,\n",
       "        True,  True,  True, False, False, False])"
      ]
     },
     "execution_count": 59,
     "metadata": {},
     "output_type": "execute_result"
    }
   ],
   "source": [
    "# check for each element whether the statement is True or False\n",
    "a < 15"
   ]
  },
  {
   "cell_type": "code",
   "execution_count": 60,
   "id": "13db4b85-37ea-422d-8a15-a9ed02433978",
   "metadata": {},
   "outputs": [
    {
     "data": {
      "text/plain": [
       "array([11, 11, 12, 13, 14, 12, 13, 11, 14])"
      ]
     },
     "execution_count": 60,
     "metadata": {},
     "output_type": "execute_result"
    }
   ],
   "source": [
    "# use the result of the element-wise check to filter the array and print only elements for which the statement is True\n",
    "a[a < 15]"
   ]
  },
  {
   "cell_type": "markdown",
   "id": "857b5335-72e5-4522-8d80-abb03e9e3443",
   "metadata": {},
   "source": [
    "---\n",
    "### &#x270d; Exercise \n",
    "\n",
    "Create a NumPy array named `arr` from the list `[1, 2, 3, 4, 5]`.\n",
    "\n",
    "Print the first element in the array.\n",
    "Print the last element in the array.\n",
    "Print the sum of all the elements in the array.\n",
    "Print the mean of the array."
   ]
  },
  {
   "cell_type": "code",
   "execution_count": 61,
   "id": "d4fe6df0-0db5-46af-a4d0-c927b6c27f77",
   "metadata": {},
   "outputs": [
    {
     "name": "stdout",
     "output_type": "stream",
     "text": [
      "1\n",
      "5\n",
      "15\n",
      "3.0\n"
     ]
    }
   ],
   "source": [
    "# YOUR CODE HERE\n",
    "arr = np.array([1, 2, 3, 4, 5])\n",
    "print(arr[0])  # First element\n",
    "print(arr[-1])  # Last element\n",
    "print(arr.sum())  # Sum of all elements\n",
    "print(arr.mean())  # Mean of the array"
   ]
  },
  {
   "cell_type": "markdown",
   "id": "915b8947-8948-4777-9fe4-46d3fef4ffe5",
   "metadata": {},
   "source": [
    "---"
   ]
  },
  {
   "cell_type": "markdown",
   "id": "25e295e5-93cc-43b3-b1f4-ab516bfc06ed",
   "metadata": {},
   "source": [
    "Of course, there are many more operations, but this will give you an understanding of what is possible and what happens in the examples we show you in the following sessions.\n",
    "\n",
    "Many \"tedious\" tasks can be simplified by `NumPy` functions. Just one example: Have a look at `arange`!"
   ]
  },
  {
   "cell_type": "code",
   "execution_count": 62,
   "id": "65d2a457-978b-4885-82a5-2a57cf0839f0",
   "metadata": {},
   "outputs": [
    {
     "data": {
      "text/plain": [
       "\u001b[1;31mDocstring:\u001b[0m\n",
       "arange([start,] stop[, step,], dtype=None, *, device=None, like=None)\n",
       "\n",
       "Return evenly spaced values within a given interval.\n",
       "\n",
       "``arange`` can be called with a varying number of positional arguments:\n",
       "\n",
       "* ``arange(stop)``: Values are generated within the half-open interval\n",
       "  ``[0, stop)`` (in other words, the interval including `start` but\n",
       "  excluding `stop`).\n",
       "* ``arange(start, stop)``: Values are generated within the half-open\n",
       "  interval ``[start, stop)``.\n",
       "* ``arange(start, stop, step)`` Values are generated within the half-open\n",
       "  interval ``[start, stop)``, with spacing between values given by\n",
       "  ``step``.\n",
       "\n",
       "For integer arguments the function is roughly equivalent to the Python\n",
       "built-in :py:class:`range`, but returns an ndarray rather than a ``range``\n",
       "instance.\n",
       "\n",
       "When using a non-integer step, such as 0.1, it is often better to use\n",
       "`numpy.linspace`.\n",
       "\n",
       "See the Warning sections below for more information.\n",
       "\n",
       "Parameters\n",
       "----------\n",
       "start : integer or real, optional\n",
       "    Start of interval.  The interval includes this value.  The default\n",
       "    start value is 0.\n",
       "stop : integer or real\n",
       "    End of interval.  The interval does not include this value, except\n",
       "    in some cases where `step` is not an integer and floating point\n",
       "    round-off affects the length of `out`.\n",
       "step : integer or real, optional\n",
       "    Spacing between values.  For any output `out`, this is the distance\n",
       "    between two adjacent values, ``out[i+1] - out[i]``.  The default\n",
       "    step size is 1.  If `step` is specified as a position argument,\n",
       "    `start` must also be given.\n",
       "dtype : dtype, optional\n",
       "    The type of the output array.  If `dtype` is not given, infer the data\n",
       "    type from the other input arguments.\n",
       "device : str, optional\n",
       "    The device on which to place the created array. Default: ``None``.\n",
       "    For Array-API interoperability only, so must be ``\"cpu\"`` if passed.\n",
       "\n",
       "    .. versionadded:: 2.0.0\n",
       "like : array_like, optional\n",
       "    Reference object to allow the creation of arrays which are not\n",
       "    NumPy arrays. If an array-like passed in as ``like`` supports\n",
       "    the ``__array_function__`` protocol, the result will be defined\n",
       "    by it. In this case, it ensures the creation of an array object\n",
       "    compatible with that passed in via this argument.\n",
       "\n",
       "    .. versionadded:: 1.20.0\n",
       "\n",
       "Returns\n",
       "-------\n",
       "arange : ndarray\n",
       "    Array of evenly spaced values.\n",
       "\n",
       "    For floating point arguments, the length of the result is\n",
       "    ``ceil((stop - start)/step)``.  Because of floating point overflow,\n",
       "    this rule may result in the last element of `out` being greater\n",
       "    than `stop`.\n",
       "\n",
       "Warnings\n",
       "--------\n",
       "The length of the output might not be numerically stable.\n",
       "\n",
       "Another stability issue is due to the internal implementation of\n",
       "`numpy.arange`.\n",
       "The actual step value used to populate the array is\n",
       "``dtype(start + step) - dtype(start)`` and not `step`. Precision loss\n",
       "can occur here, due to casting or due to using floating points when\n",
       "`start` is much larger than `step`. This can lead to unexpected\n",
       "behaviour. For example::\n",
       "\n",
       "  >>> np.arange(0, 5, 0.5, dtype=int)\n",
       "  array([0, 0, 0, 0, 0, 0, 0, 0, 0, 0])\n",
       "  >>> np.arange(-3, 3, 0.5, dtype=int)\n",
       "  array([-3, -2, -1,  0,  1,  2,  3,  4,  5,  6,  7,  8])\n",
       "\n",
       "In such cases, the use of `numpy.linspace` should be preferred.\n",
       "\n",
       "The built-in :py:class:`range` generates :std:doc:`Python built-in integers\n",
       "that have arbitrary size <python:c-api/long>`, while `numpy.arange`\n",
       "produces `numpy.int32` or `numpy.int64` numbers. This may result in\n",
       "incorrect results for large integer values::\n",
       "\n",
       "  >>> power = 40\n",
       "  >>> modulo = 10000\n",
       "  >>> x1 = [(n ** power) % modulo for n in range(8)]\n",
       "  >>> x2 = [(n ** power) % modulo for n in np.arange(8)]\n",
       "  >>> print(x1)\n",
       "  [0, 1, 7776, 8801, 6176, 625, 6576, 4001]  # correct\n",
       "  >>> print(x2)\n",
       "  [0, 1, 7776, 7185, 0, 5969, 4816, 3361]  # incorrect\n",
       "\n",
       "See Also\n",
       "--------\n",
       "numpy.linspace : Evenly spaced numbers with careful handling of endpoints.\n",
       "numpy.ogrid: Arrays of evenly spaced numbers in N-dimensions.\n",
       "numpy.mgrid: Grid-shaped arrays of evenly spaced numbers in N-dimensions.\n",
       ":ref:`how-to-partition`\n",
       "\n",
       "Examples\n",
       "--------\n",
       ">>> import numpy as np\n",
       ">>> np.arange(3)\n",
       "array([0, 1, 2])\n",
       ">>> np.arange(3.0)\n",
       "array([ 0.,  1.,  2.])\n",
       ">>> np.arange(3,7)\n",
       "array([3, 4, 5, 6])\n",
       ">>> np.arange(3,7,2)\n",
       "array([3, 5])\n",
       "\u001b[1;31mType:\u001b[0m      builtin_function_or_method"
      ]
     },
     "metadata": {},
     "output_type": "display_data"
    }
   ],
   "source": [
    "np.arange?"
   ]
  },
  {
   "cell_type": "code",
   "execution_count": 63,
   "id": "45cf9732-c1f0-4676-8132-0242c750c568",
   "metadata": {},
   "outputs": [
    {
     "data": {
      "text/plain": [
       "array([0, 1, 2, 3, 4, 5, 6, 7, 8, 9])"
      ]
     },
     "execution_count": 63,
     "metadata": {},
     "output_type": "execute_result"
    }
   ],
   "source": [
    "np.arange(10)"
   ]
  },
  {
   "cell_type": "code",
   "execution_count": 64,
   "id": "52984596-c791-402e-ae49-09cb3010215d",
   "metadata": {},
   "outputs": [
    {
     "data": {
      "text/plain": [
       "array([10, 11, 12, 13, 14, 15, 16, 17, 18, 19])"
      ]
     },
     "execution_count": 64,
     "metadata": {},
     "output_type": "execute_result"
    }
   ],
   "source": [
    "np.arange(10,20)"
   ]
  },
  {
   "cell_type": "code",
   "execution_count": 65,
   "id": "229e33b4-0775-4a68-9000-f16481d24cc4",
   "metadata": {},
   "outputs": [
    {
     "data": {
      "text/plain": [
       "array([100, 105, 110, 115, 120, 125, 130, 135, 140, 145, 150, 155, 160,\n",
       "       165, 170, 175, 180, 185, 190, 195])"
      ]
     },
     "execution_count": 65,
     "metadata": {},
     "output_type": "execute_result"
    }
   ],
   "source": [
    "np.arange(100,200,5)"
   ]
  },
  {
   "cell_type": "markdown",
   "id": "a6bb696c-7f82-4709-a615-0fd446fdfeda",
   "metadata": {},
   "source": [
    "## Basics of `pandas`\n",
    "\n",
    "`pandas` is a tool which is built \"on top of\" `NumPy` in the sense that it helps manipulating large data sets using mathematical operations. Let's first look at `Series`.\n",
    "\n",
    "### pandas Series\n",
    "\n",
    "A Series is a one-dimensional array of entries that can be created as follows:"
   ]
  },
  {
   "cell_type": "code",
   "execution_count": 66,
   "id": "45871e1c-13bb-457d-8b08-d7a279eafd7a",
   "metadata": {},
   "outputs": [
    {
     "data": {
      "text/plain": [
       "0    1\n",
       "1    2\n",
       "2    3\n",
       "3    4\n",
       "dtype: int64"
      ]
     },
     "execution_count": 66,
     "metadata": {},
     "output_type": "execute_result"
    }
   ],
   "source": [
    "x = pd.Series([1, 2, 3, 4])\n",
    "x"
   ]
  },
  {
   "cell_type": "markdown",
   "id": "fa731b34-3f33-4d67-af3c-57f1aa72e203",
   "metadata": {},
   "source": [
    "Compare this with a one-dimensional NumPy array below. What do you notice?"
   ]
  },
  {
   "cell_type": "code",
   "execution_count": 67,
   "id": "22852b4e-f7f5-4448-952f-cdd2b0f624a9",
   "metadata": {},
   "outputs": [
    {
     "data": {
      "text/plain": [
       "array([1, 2, 3, 4])"
      ]
     },
     "execution_count": 67,
     "metadata": {},
     "output_type": "execute_result"
    }
   ],
   "source": [
    "np.array([1, 2, 3, 4])"
   ]
  },
  {
   "cell_type": "markdown",
   "id": "8b273b9e-bf34-4ec5-867c-641fb6abe26e",
   "metadata": {},
   "source": [
    "The comparison shows that pandas Series are *always indexed*."
   ]
  },
  {
   "cell_type": "markdown",
   "id": "31ad251a-8cbd-41ef-8a9e-fc4dcc41109d",
   "metadata": {},
   "source": [
    "Indices can also be set explicitly:"
   ]
  },
  {
   "cell_type": "code",
   "execution_count": 68,
   "id": "9f6c571d-f7eb-4936-a703-ee81403d5675",
   "metadata": {},
   "outputs": [
    {
     "data": {
      "text/plain": [
       "a    10\n",
       "b    11\n",
       "c    12\n",
       "k    13\n",
       "d    14\n",
       "f    15\n",
       "g    16\n",
       "h    17\n",
       "i    18\n",
       "i    19\n",
       "e    20\n",
       "k    21\n",
       "s    22\n",
       "dtype: int64"
      ]
     },
     "execution_count": 68,
     "metadata": {},
     "output_type": "execute_result"
    }
   ],
   "source": [
    "data = [10,11,12,13,14,15,16,17,18,19,20,21,22]\n",
    "x = pd.Series(data,index=['a','b','c','k','d','f','g','h','i','i','e','k','s'])\n",
    "x"
   ]
  },
  {
   "cell_type": "markdown",
   "id": "573b6591-3af0-425a-bf87-938c4b6d54ca",
   "metadata": {},
   "source": [
    "As you can see, indices can also be strings (or any other consistend data type). Think of such a Series as labeled data. \n",
    "\n",
    "These indices can also be used to access data explicitly:"
   ]
  },
  {
   "cell_type": "code",
   "execution_count": 69,
   "id": "4e60dec9-eefd-4c75-99eb-85a0f293bfd6",
   "metadata": {},
   "outputs": [
    {
     "data": {
      "text/plain": [
       "b    11\n",
       "c    12\n",
       "k    13\n",
       "d    14\n",
       "dtype: int64"
      ]
     },
     "execution_count": 69,
     "metadata": {},
     "output_type": "execute_result"
    }
   ],
   "source": [
    "x['b':'d']"
   ]
  },
  {
   "cell_type": "markdown",
   "id": "6a0d258c-ad9b-44a5-abd4-d8a13ea205e2",
   "metadata": {},
   "source": [
    "Why is this useful? See what happens when the two following Series objects are added. What does `fill_value` do?"
   ]
  },
  {
   "cell_type": "code",
   "execution_count": 70,
   "id": "49f38ae4-f507-47e0-9b7a-b29a97d19641",
   "metadata": {},
   "outputs": [
    {
     "data": {
      "text/plain": [
       "a     6.0\n",
       "b     8.0\n",
       "c     3.0\n",
       "d    11.0\n",
       "e     9.0\n",
       "dtype: float64"
      ]
     },
     "execution_count": 70,
     "metadata": {},
     "output_type": "execute_result"
    }
   ],
   "source": [
    "x = pd.Series([5, 2, 3,7], index=['a', 'b', 'c', 'd'])\n",
    "y = pd.Series([1, 6, 4, 9], index=['a', 'b', 'd', 'e'])\n",
    "x.add(y, fill_value = 0)"
   ]
  },
  {
   "cell_type": "markdown",
   "id": "8812adeb-ed65-4576-9ed5-575f23d4c837",
   "metadata": {},
   "source": [
    "`pandas` is a powerful tool for working with time series, too. Have a look at the following (more sophisticated) example."
   ]
  },
  {
   "cell_type": "code",
   "execution_count": 71,
   "id": "296eba62-5f92-41b9-a9bf-0018b8447c04",
   "metadata": {},
   "outputs": [
    {
     "data": {
      "text/plain": [
       "DatetimeIndex(['2023-10-01', '2023-10-02', '2023-10-03', '2023-10-04',\n",
       "               '2023-10-05', '2023-10-06', '2023-10-07', '2023-10-08',\n",
       "               '2023-10-09', '2023-10-10', '2023-10-11', '2023-10-12',\n",
       "               '2023-10-13', '2023-10-14', '2023-10-15', '2023-10-16',\n",
       "               '2023-10-17', '2023-10-18', '2023-10-19', '2023-10-20',\n",
       "               '2023-10-21', '2023-10-22', '2023-10-23', '2023-10-24',\n",
       "               '2023-10-25', '2023-10-26', '2023-10-27', '2023-10-28',\n",
       "               '2023-10-29', '2023-10-30', '2023-10-31', '2023-11-01',\n",
       "               '2023-11-02', '2023-11-03', '2023-11-04', '2023-11-05',\n",
       "               '2023-11-06', '2023-11-07', '2023-11-08', '2023-11-09',\n",
       "               '2023-11-10', '2023-11-11', '2023-11-12', '2023-11-13',\n",
       "               '2023-11-14', '2023-11-15', '2023-11-16', '2023-11-17',\n",
       "               '2023-11-18', '2023-11-19', '2023-11-20', '2023-11-21',\n",
       "               '2023-11-22', '2023-11-23', '2023-11-24', '2023-11-25',\n",
       "               '2023-11-26', '2023-11-27', '2023-11-28', '2023-11-29',\n",
       "               '2023-11-30', '2023-12-01', '2023-12-02', '2023-12-03',\n",
       "               '2023-12-04', '2023-12-05', '2023-12-06', '2023-12-07',\n",
       "               '2023-12-08', '2023-12-09', '2023-12-10', '2023-12-11',\n",
       "               '2023-12-12', '2023-12-13', '2023-12-14', '2023-12-15'],\n",
       "              dtype='datetime64[ns]', freq='D')"
      ]
     },
     "execution_count": 71,
     "metadata": {},
     "output_type": "execute_result"
    }
   ],
   "source": [
    "# let's create an index for a time range\n",
    "index = pd.date_range('2023-10-01', '2023-12-15')\n",
    "index"
   ]
  },
  {
   "cell_type": "code",
   "execution_count": 72,
   "id": "edfc8f3e-2188-416d-a31c-261646859d6d",
   "metadata": {},
   "outputs": [
    {
     "data": {
      "text/plain": [
       "array([72, 80, 89, 97, 48,  7, 66, 23, 25, 54, 32, 24, 70, 14, 99, 21, 98,\n",
       "       77, 23, 52, 51, 10, 30, 54, 94, 97, 95, 80, 34, 48, 44, 84,  0, 31,\n",
       "       18, 50, 91, 14, 20, 81, 17, 51, 73,  4, 86, 56, 90, 16,  7, 47, 99,\n",
       "       97, 16, 59, 82, 32, 97,  9, 66, 60, 83, 57, 64, 27, 72, 92, 91,  4,\n",
       "       84, 68, 40, 48, 46, 45, 37,  9], dtype=int32)"
      ]
     },
     "execution_count": 72,
     "metadata": {},
     "output_type": "execute_result"
    }
   ],
   "source": [
    "# then we create some random integers\n",
    "# our data array contains the same number of elements as our index\n",
    "data = np.random.randint(0, 100, len(index))\n",
    "data"
   ]
  },
  {
   "cell_type": "code",
   "execution_count": 73,
   "id": "7f22b108-daf2-4ce1-84b5-2fd742b649ee",
   "metadata": {},
   "outputs": [
    {
     "data": {
      "text/plain": [
       "2023-10-01    72\n",
       "2023-10-02    80\n",
       "2023-10-03    89\n",
       "2023-10-04    97\n",
       "2023-10-05    48\n",
       "              ..\n",
       "2023-12-11    48\n",
       "2023-12-12    46\n",
       "2023-12-13    45\n",
       "2023-12-14    37\n",
       "2023-12-15     9\n",
       "Freq: D, Length: 76, dtype: int32"
      ]
     },
     "execution_count": 73,
     "metadata": {},
     "output_type": "execute_result"
    }
   ],
   "source": [
    "# now, we 'merge' both to a time series\n",
    "series = pd.Series(data=data, index=index)\n",
    "series"
   ]
  },
  {
   "cell_type": "code",
   "execution_count": 74,
   "id": "1cd161a2-abdd-4469-a1c8-5e2d97e1c792",
   "metadata": {},
   "outputs": [
    {
     "data": {
      "text/plain": [
       "count    76.000000\n",
       "mean     53.000000\n",
       "std      30.414909\n",
       "min       0.000000\n",
       "25%      24.750000\n",
       "50%      51.500000\n",
       "75%      81.250000\n",
       "max      99.000000\n",
       "dtype: float64"
      ]
     },
     "execution_count": 74,
     "metadata": {},
     "output_type": "execute_result"
    }
   ],
   "source": [
    "# pandas has some nice features to work with data\n",
    "series.describe()"
   ]
  },
  {
   "cell_type": "code",
   "execution_count": 75,
   "id": "5220efb8-b0ce-4075-b2bc-65a71d817550",
   "metadata": {},
   "outputs": [
    {
     "data": {
      "text/plain": [
       "2023-10-01     True\n",
       "2023-10-02     True\n",
       "2023-10-03     True\n",
       "2023-10-04     True\n",
       "2023-10-05     True\n",
       "              ...  \n",
       "2023-12-11     True\n",
       "2023-12-12     True\n",
       "2023-12-13     True\n",
       "2023-12-14     True\n",
       "2023-12-15    False\n",
       "Freq: D, Length: 76, dtype: bool"
      ]
     },
     "execution_count": 75,
     "metadata": {},
     "output_type": "execute_result"
    }
   ],
   "source": [
    "series > 10"
   ]
  },
  {
   "cell_type": "code",
   "execution_count": 76,
   "id": "5efa3eb1-773c-48dd-a315-ccae7a43be51",
   "metadata": {},
   "outputs": [
    {
     "data": {
      "text/plain": [
       "np.int64(4028)"
      ]
     },
     "execution_count": 76,
     "metadata": {},
     "output_type": "execute_result"
    }
   ],
   "source": [
    "series.sum()"
   ]
  },
  {
   "cell_type": "code",
   "execution_count": 77,
   "id": "f7abf7fa-b451-4fd9-9366-c0709c3cecd8",
   "metadata": {},
   "outputs": [
    {
     "data": {
      "text/plain": [
       "2023-10-04    97\n",
       "2023-10-05    48\n",
       "2023-10-06     7\n",
       "2023-10-07    66\n",
       "2023-10-08    23\n",
       "2023-10-09    25\n",
       "2023-10-10    54\n",
       "2023-10-11    32\n",
       "2023-10-12    24\n",
       "2023-10-13    70\n",
       "2023-10-14    14\n",
       "2023-10-15    99\n",
       "2023-10-16    21\n",
       "2023-10-17    98\n",
       "2023-10-18    77\n",
       "2023-10-19    23\n",
       "2023-10-20    52\n",
       "2023-10-21    51\n",
       "2023-10-22    10\n",
       "2023-10-23    30\n",
       "2023-10-24    54\n",
       "2023-10-25    94\n",
       "2023-10-26    97\n",
       "2023-10-27    95\n",
       "2023-10-28    80\n",
       "2023-10-29    34\n",
       "2023-10-30    48\n",
       "2023-10-31    44\n",
       "2023-11-01    84\n",
       "2023-11-02     0\n",
       "2023-11-03    31\n",
       "2023-11-04    18\n",
       "2023-11-05    50\n",
       "2023-11-06    91\n",
       "2023-11-07    14\n",
       "2023-11-08    20\n",
       "2023-11-09    81\n",
       "2023-11-10    17\n",
       "2023-11-11    51\n",
       "2023-11-12    73\n",
       "2023-11-13     4\n",
       "2023-11-14    86\n",
       "Freq: D, dtype: int32"
      ]
     },
     "execution_count": 77,
     "metadata": {},
     "output_type": "execute_result"
    }
   ],
   "source": [
    "# another very powerful feature is slicing (e.g. \"selecting\") data\n",
    "# here we do it based on the date\n",
    "series['2023-10-04':'2023-11-14']"
   ]
  },
  {
   "cell_type": "markdown",
   "id": "a47cd811-8db7-47d5-a113-e80abb36059a",
   "metadata": {},
   "source": [
    "---\n",
    "### &#x270d; Exercise \n",
    "Create a pandas Series named `s` from the list `[1, 2, 3, 4, 5].`\n",
    "Print the elements in the Series that are greater than 2. This is working similar to a NumPy array.\n"
   ]
  },
  {
   "cell_type": "code",
   "execution_count": 78,
   "id": "d5accdbe-7df8-4679-89c1-5393124d03e3",
   "metadata": {},
   "outputs": [
    {
     "name": "stdout",
     "output_type": "stream",
     "text": [
      "2    3\n",
      "3    4\n",
      "4    5\n",
      "dtype: int64\n"
     ]
    }
   ],
   "source": [
    "# YOUR CODE HERE \n",
    "s = pd.Series([1, 2, 3, 4, 5])\n",
    "print(s[s > 2])  # Outputs: 3, 4, 5"
   ]
  },
  {
   "cell_type": "markdown",
   "id": "33d53286-1036-48c4-84bd-d0438c784671",
   "metadata": {},
   "source": [
    "---"
   ]
  },
  {
   "cell_type": "markdown",
   "id": "add11f22-96dd-4a75-a123-b1542302b9fc",
   "metadata": {},
   "source": [
    "### Pandas Data Frames"
   ]
  },
  {
   "cell_type": "markdown",
   "id": "11523c11-cb26-480d-be9e-8ec4ae331565",
   "metadata": {},
   "source": [
    "DataFrames are two-dimensional arrays that extend the Series object. We can create a DataFrame based on several Series objects with consistend indices.\n",
    "\n",
    "As we have seen above: A dict(ionary) is a Python data structure which maps several keys to their counterpart values."
   ]
  },
  {
   "cell_type": "code",
   "execution_count": 79,
   "id": "8394d5dc-b11c-4b86-87a9-2ab7bdcfe18c",
   "metadata": {},
   "outputs": [
    {
     "data": {
      "text/plain": [
       "California    38332521\n",
       "Texas         26448193\n",
       "New York      19651127\n",
       "Florida       19552860\n",
       "Illinois      12882135\n",
       "dtype: int64"
      ]
     },
     "execution_count": 79,
     "metadata": {},
     "output_type": "execute_result"
    }
   ],
   "source": [
    "# we create on series for the population of some states\n",
    "population_dict = {'California': 38332521,\n",
    "                   'Texas': 26448193,\n",
    "                   'New York': 19651127,\n",
    "                   'Florida': 19552860,\n",
    "                   'Illinois': 12882135}\n",
    "population = pd.Series(population_dict)\n",
    "population"
   ]
  },
  {
   "cell_type": "code",
   "execution_count": 80,
   "id": "a7ce98f1-f1aa-43fc-91fe-dd33be5a4b3f",
   "metadata": {},
   "outputs": [
    {
     "data": {
      "text/plain": [
       "California    423967\n",
       "Texas         695662\n",
       "New York      141297\n",
       "Florida       170312\n",
       "Illinois      149995\n",
       "dtype: int64"
      ]
     },
     "execution_count": 80,
     "metadata": {},
     "output_type": "execute_result"
    }
   ],
   "source": [
    "# then we create a series for the area of some states\n",
    "area_dict = {'California': 423967, 'Texas': 695662, 'New York': 141297,\n",
    "             'Florida': 170312, 'Illinois': 149995}\n",
    "area = pd.Series(area_dict)\n",
    "area"
   ]
  },
  {
   "cell_type": "code",
   "execution_count": 81,
   "id": "16e8dea8-c6df-4c1d-b495-814976cd9a0e",
   "metadata": {},
   "outputs": [
    {
     "data": {
      "text/html": [
       "<div>\n",
       "<style scoped>\n",
       "    .dataframe tbody tr th:only-of-type {\n",
       "        vertical-align: middle;\n",
       "    }\n",
       "\n",
       "    .dataframe tbody tr th {\n",
       "        vertical-align: top;\n",
       "    }\n",
       "\n",
       "    .dataframe thead th {\n",
       "        text-align: right;\n",
       "    }\n",
       "</style>\n",
       "<table border=\"1\" class=\"dataframe\">\n",
       "  <thead>\n",
       "    <tr style=\"text-align: right;\">\n",
       "      <th></th>\n",
       "      <th>population</th>\n",
       "      <th>area</th>\n",
       "    </tr>\n",
       "  </thead>\n",
       "  <tbody>\n",
       "    <tr>\n",
       "      <th>California</th>\n",
       "      <td>38332521</td>\n",
       "      <td>423967</td>\n",
       "    </tr>\n",
       "    <tr>\n",
       "      <th>Texas</th>\n",
       "      <td>26448193</td>\n",
       "      <td>695662</td>\n",
       "    </tr>\n",
       "    <tr>\n",
       "      <th>New York</th>\n",
       "      <td>19651127</td>\n",
       "      <td>141297</td>\n",
       "    </tr>\n",
       "    <tr>\n",
       "      <th>Florida</th>\n",
       "      <td>19552860</td>\n",
       "      <td>170312</td>\n",
       "    </tr>\n",
       "    <tr>\n",
       "      <th>Illinois</th>\n",
       "      <td>12882135</td>\n",
       "      <td>149995</td>\n",
       "    </tr>\n",
       "  </tbody>\n",
       "</table>\n",
       "</div>"
      ],
      "text/plain": [
       "            population    area\n",
       "California    38332521  423967\n",
       "Texas         26448193  695662\n",
       "New York      19651127  141297\n",
       "Florida       19552860  170312\n",
       "Illinois      12882135  149995"
      ]
     },
     "execution_count": 81,
     "metadata": {},
     "output_type": "execute_result"
    }
   ],
   "source": [
    "# finally, we \"merge\" them to one data frame (which you can look at as a table)\n",
    "states = pd.DataFrame({'population': population,\n",
    "                       'area': area})\n",
    "states"
   ]
  },
  {
   "cell_type": "markdown",
   "id": "43b039be-d24b-4fb0-affb-bff06a366384",
   "metadata": {},
   "source": [
    "Simply put: A DataFrame is somewhat like a table which you can manipulate in Python using different libraries!"
   ]
  },
  {
   "cell_type": "markdown",
   "id": "e1404540-5c49-45a2-a3cf-5792d40d6981",
   "metadata": {},
   "source": [
    "---\n",
    "### &#x270d; Exercise "
   ]
  },
  {
   "cell_type": "markdown",
   "id": "e240fa45-ac22-43ed-8692-9c5740f33331",
   "metadata": {},
   "source": [
    "Consider the following data frame:"
   ]
  },
  {
   "cell_type": "code",
   "execution_count": 82,
   "id": "c1c4990e-416e-4b94-8078-b067a6602c78",
   "metadata": {},
   "outputs": [
    {
     "data": {
      "text/html": [
       "<div>\n",
       "<style scoped>\n",
       "    .dataframe tbody tr th:only-of-type {\n",
       "        vertical-align: middle;\n",
       "    }\n",
       "\n",
       "    .dataframe tbody tr th {\n",
       "        vertical-align: top;\n",
       "    }\n",
       "\n",
       "    .dataframe thead th {\n",
       "        text-align: right;\n",
       "    }\n",
       "</style>\n",
       "<table border=\"1\" class=\"dataframe\">\n",
       "  <thead>\n",
       "    <tr style=\"text-align: right;\">\n",
       "      <th></th>\n",
       "      <th>A</th>\n",
       "      <th>B</th>\n",
       "      <th>C</th>\n",
       "    </tr>\n",
       "  </thead>\n",
       "  <tbody>\n",
       "    <tr>\n",
       "      <th>0</th>\n",
       "      <td>1</td>\n",
       "      <td>4</td>\n",
       "      <td>7</td>\n",
       "    </tr>\n",
       "    <tr>\n",
       "      <th>1</th>\n",
       "      <td>2</td>\n",
       "      <td>5</td>\n",
       "      <td>8</td>\n",
       "    </tr>\n",
       "    <tr>\n",
       "      <th>2</th>\n",
       "      <td>3</td>\n",
       "      <td>6</td>\n",
       "      <td>9</td>\n",
       "    </tr>\n",
       "  </tbody>\n",
       "</table>\n",
       "</div>"
      ],
      "text/plain": [
       "   A  B  C\n",
       "0  1  4  7\n",
       "1  2  5  8\n",
       "2  3  6  9"
      ]
     },
     "execution_count": 82,
     "metadata": {},
     "output_type": "execute_result"
    }
   ],
   "source": [
    "df = pd.DataFrame({ 'A': [1, 2, 3], 'B': [4, 5, 6], 'C': [7, 8, 9] })\n",
    "df"
   ]
  },
  {
   "cell_type": "markdown",
   "id": "5f6fe059-ff77-4fcc-a9be-e4a82b2ff80e",
   "metadata": {},
   "source": [
    "Print the sum of all the elements in column 'A'.\n",
    "\n",
    "Print the mean of the elements in column 'B'."
   ]
  },
  {
   "cell_type": "code",
   "execution_count": 83,
   "id": "1d5f5306-130a-451a-a868-ae31881bfc7e",
   "metadata": {},
   "outputs": [
    {
     "name": "stdout",
     "output_type": "stream",
     "text": [
      "6\n",
      "5.0\n"
     ]
    }
   ],
   "source": [
    "# YOUR CODE HERE\n",
    "print(df['A'].sum())  # Sum of all elements in column 'A'\n",
    "print(df['B'].mean())  # Mean of the elements in column 'B"
   ]
  },
  {
   "cell_type": "markdown",
   "id": "a87dcc29-0e5f-43af-8efd-7ee9dea331da",
   "metadata": {},
   "source": [
    "---"
   ]
  },
  {
   "cell_type": "markdown",
   "id": "fed12468-1040-4598-89b9-afe467adb6e0",
   "metadata": {},
   "source": [
    "### Pandas data operations\n",
    "\n",
    "Working with Pandas objects is often quite intuitive."
   ]
  },
  {
   "cell_type": "markdown",
   "id": "badbfefe-c571-4307-9b6a-937dd92e6940",
   "metadata": {},
   "source": [
    "You can select single columns from our data frame!"
   ]
  },
  {
   "cell_type": "code",
   "execution_count": 84,
   "id": "4b701e05-bce2-4b35-b163-3529d4a334ea",
   "metadata": {},
   "outputs": [
    {
     "data": {
      "text/plain": [
       "California    38332521\n",
       "Texas         26448193\n",
       "New York      19651127\n",
       "Florida       19552860\n",
       "Illinois      12882135\n",
       "Name: population, dtype: int64"
      ]
     },
     "execution_count": 84,
     "metadata": {},
     "output_type": "execute_result"
    }
   ],
   "source": [
    "states['population']"
   ]
  },
  {
   "cell_type": "markdown",
   "id": "f475fbd8-bb56-4ae2-b6ee-9546caa69c74",
   "metadata": {},
   "source": [
    "pandas comes with a lot of tools. For example, if you want to sort by the values of one column, you can use:"
   ]
  },
  {
   "cell_type": "code",
   "execution_count": 85,
   "id": "992e5e86-1175-4b91-b785-c8328bd1ea4c",
   "metadata": {},
   "outputs": [
    {
     "data": {
      "text/html": [
       "<div>\n",
       "<style scoped>\n",
       "    .dataframe tbody tr th:only-of-type {\n",
       "        vertical-align: middle;\n",
       "    }\n",
       "\n",
       "    .dataframe tbody tr th {\n",
       "        vertical-align: top;\n",
       "    }\n",
       "\n",
       "    .dataframe thead th {\n",
       "        text-align: right;\n",
       "    }\n",
       "</style>\n",
       "<table border=\"1\" class=\"dataframe\">\n",
       "  <thead>\n",
       "    <tr style=\"text-align: right;\">\n",
       "      <th></th>\n",
       "      <th>population</th>\n",
       "      <th>area</th>\n",
       "    </tr>\n",
       "  </thead>\n",
       "  <tbody>\n",
       "    <tr>\n",
       "      <th>Illinois</th>\n",
       "      <td>12882135</td>\n",
       "      <td>149995</td>\n",
       "    </tr>\n",
       "    <tr>\n",
       "      <th>Florida</th>\n",
       "      <td>19552860</td>\n",
       "      <td>170312</td>\n",
       "    </tr>\n",
       "    <tr>\n",
       "      <th>New York</th>\n",
       "      <td>19651127</td>\n",
       "      <td>141297</td>\n",
       "    </tr>\n",
       "    <tr>\n",
       "      <th>Texas</th>\n",
       "      <td>26448193</td>\n",
       "      <td>695662</td>\n",
       "    </tr>\n",
       "    <tr>\n",
       "      <th>California</th>\n",
       "      <td>38332521</td>\n",
       "      <td>423967</td>\n",
       "    </tr>\n",
       "  </tbody>\n",
       "</table>\n",
       "</div>"
      ],
      "text/plain": [
       "            population    area\n",
       "Illinois      12882135  149995\n",
       "Florida       19552860  170312\n",
       "New York      19651127  141297\n",
       "Texas         26448193  695662\n",
       "California    38332521  423967"
      ]
     },
     "execution_count": 85,
     "metadata": {},
     "output_type": "execute_result"
    }
   ],
   "source": [
    "pd.DataFrame.sort_values(states, by='population')"
   ]
  },
  {
   "cell_type": "markdown",
   "id": "2ecd396a-5567-4957-b363-91a67a2f2d28",
   "metadata": {},
   "source": [
    "You can do calculation with data frames!\n",
    "\n",
    "To compute the population density, for example, you have to divide `population` by `area`. How would you translate this into Python code?"
   ]
  },
  {
   "cell_type": "code",
   "execution_count": 86,
   "id": "2f65d805-18fb-432d-8ef8-fe0959ce0b38",
   "metadata": {},
   "outputs": [
    {
     "data": {
      "text/html": [
       "<div>\n",
       "<style scoped>\n",
       "    .dataframe tbody tr th:only-of-type {\n",
       "        vertical-align: middle;\n",
       "    }\n",
       "\n",
       "    .dataframe tbody tr th {\n",
       "        vertical-align: top;\n",
       "    }\n",
       "\n",
       "    .dataframe thead th {\n",
       "        text-align: right;\n",
       "    }\n",
       "</style>\n",
       "<table border=\"1\" class=\"dataframe\">\n",
       "  <thead>\n",
       "    <tr style=\"text-align: right;\">\n",
       "      <th></th>\n",
       "      <th>population</th>\n",
       "      <th>area</th>\n",
       "      <th>density</th>\n",
       "    </tr>\n",
       "  </thead>\n",
       "  <tbody>\n",
       "    <tr>\n",
       "      <th>California</th>\n",
       "      <td>38332521</td>\n",
       "      <td>423967</td>\n",
       "      <td>90.413926</td>\n",
       "    </tr>\n",
       "    <tr>\n",
       "      <th>Texas</th>\n",
       "      <td>26448193</td>\n",
       "      <td>695662</td>\n",
       "      <td>38.018740</td>\n",
       "    </tr>\n",
       "    <tr>\n",
       "      <th>New York</th>\n",
       "      <td>19651127</td>\n",
       "      <td>141297</td>\n",
       "      <td>139.076746</td>\n",
       "    </tr>\n",
       "    <tr>\n",
       "      <th>Florida</th>\n",
       "      <td>19552860</td>\n",
       "      <td>170312</td>\n",
       "      <td>114.806121</td>\n",
       "    </tr>\n",
       "    <tr>\n",
       "      <th>Illinois</th>\n",
       "      <td>12882135</td>\n",
       "      <td>149995</td>\n",
       "      <td>85.883763</td>\n",
       "    </tr>\n",
       "  </tbody>\n",
       "</table>\n",
       "</div>"
      ],
      "text/plain": [
       "            population    area     density\n",
       "California    38332521  423967   90.413926\n",
       "Texas         26448193  695662   38.018740\n",
       "New York      19651127  141297  139.076746\n",
       "Florida       19552860  170312  114.806121\n",
       "Illinois      12882135  149995   85.883763"
      ]
     },
     "execution_count": 86,
     "metadata": {},
     "output_type": "execute_result"
    }
   ],
   "source": [
    "states['density'] = states['population']/states['area']\n",
    "states"
   ]
  },
  {
   "cell_type": "markdown",
   "id": "0d1e8742-7eab-448e-93a4-6aca647af75b",
   "metadata": {},
   "source": [
    "You can extract a column as a *Series* by using its name in square brackets:"
   ]
  },
  {
   "cell_type": "code",
   "execution_count": 87,
   "id": "4311b265-c510-4254-81a4-0007956d7a22",
   "metadata": {},
   "outputs": [
    {
     "data": {
      "text/plain": [
       "California    38332521\n",
       "Texas         26448193\n",
       "New York      19651127\n",
       "Florida       19552860\n",
       "Illinois      12882135\n",
       "Name: population, dtype: int64"
      ]
     },
     "execution_count": 87,
     "metadata": {},
     "output_type": "execute_result"
    }
   ],
   "source": [
    "states['population']"
   ]
  },
  {
   "cell_type": "markdown",
   "id": "b7018c18-7a53-4139-99fb-946028c30e0e",
   "metadata": {},
   "source": [
    "Furthermore, you can extract one or more columns as a *DataFrame* by using their names in double square brackets:"
   ]
  },
  {
   "cell_type": "code",
   "execution_count": 88,
   "id": "cc42d430-9093-4fa9-a124-0638acf1fe2d",
   "metadata": {},
   "outputs": [
    {
     "data": {
      "text/html": [
       "<div>\n",
       "<style scoped>\n",
       "    .dataframe tbody tr th:only-of-type {\n",
       "        vertical-align: middle;\n",
       "    }\n",
       "\n",
       "    .dataframe tbody tr th {\n",
       "        vertical-align: top;\n",
       "    }\n",
       "\n",
       "    .dataframe thead th {\n",
       "        text-align: right;\n",
       "    }\n",
       "</style>\n",
       "<table border=\"1\" class=\"dataframe\">\n",
       "  <thead>\n",
       "    <tr style=\"text-align: right;\">\n",
       "      <th></th>\n",
       "      <th>population</th>\n",
       "    </tr>\n",
       "  </thead>\n",
       "  <tbody>\n",
       "    <tr>\n",
       "      <th>California</th>\n",
       "      <td>38332521</td>\n",
       "    </tr>\n",
       "    <tr>\n",
       "      <th>Texas</th>\n",
       "      <td>26448193</td>\n",
       "    </tr>\n",
       "    <tr>\n",
       "      <th>New York</th>\n",
       "      <td>19651127</td>\n",
       "    </tr>\n",
       "    <tr>\n",
       "      <th>Florida</th>\n",
       "      <td>19552860</td>\n",
       "    </tr>\n",
       "    <tr>\n",
       "      <th>Illinois</th>\n",
       "      <td>12882135</td>\n",
       "    </tr>\n",
       "  </tbody>\n",
       "</table>\n",
       "</div>"
      ],
      "text/plain": [
       "            population\n",
       "California    38332521\n",
       "Texas         26448193\n",
       "New York      19651127\n",
       "Florida       19552860\n",
       "Illinois      12882135"
      ]
     },
     "execution_count": 88,
     "metadata": {},
     "output_type": "execute_result"
    }
   ],
   "source": [
    "states[['population']]"
   ]
  },
  {
   "cell_type": "markdown",
   "id": "69897852-6103-4514-a76f-0509350b3a79",
   "metadata": {},
   "source": [
    "Here, we want to extract *two* columns:"
   ]
  },
  {
   "cell_type": "code",
   "execution_count": 89,
   "id": "8647786d-ea80-4dc6-8a4e-565499565982",
   "metadata": {},
   "outputs": [
    {
     "data": {
      "text/html": [
       "<div>\n",
       "<style scoped>\n",
       "    .dataframe tbody tr th:only-of-type {\n",
       "        vertical-align: middle;\n",
       "    }\n",
       "\n",
       "    .dataframe tbody tr th {\n",
       "        vertical-align: top;\n",
       "    }\n",
       "\n",
       "    .dataframe thead th {\n",
       "        text-align: right;\n",
       "    }\n",
       "</style>\n",
       "<table border=\"1\" class=\"dataframe\">\n",
       "  <thead>\n",
       "    <tr style=\"text-align: right;\">\n",
       "      <th></th>\n",
       "      <th>population</th>\n",
       "      <th>density</th>\n",
       "    </tr>\n",
       "  </thead>\n",
       "  <tbody>\n",
       "    <tr>\n",
       "      <th>California</th>\n",
       "      <td>38332521</td>\n",
       "      <td>90.413926</td>\n",
       "    </tr>\n",
       "    <tr>\n",
       "      <th>Texas</th>\n",
       "      <td>26448193</td>\n",
       "      <td>38.018740</td>\n",
       "    </tr>\n",
       "    <tr>\n",
       "      <th>New York</th>\n",
       "      <td>19651127</td>\n",
       "      <td>139.076746</td>\n",
       "    </tr>\n",
       "    <tr>\n",
       "      <th>Florida</th>\n",
       "      <td>19552860</td>\n",
       "      <td>114.806121</td>\n",
       "    </tr>\n",
       "    <tr>\n",
       "      <th>Illinois</th>\n",
       "      <td>12882135</td>\n",
       "      <td>85.883763</td>\n",
       "    </tr>\n",
       "  </tbody>\n",
       "</table>\n",
       "</div>"
      ],
      "text/plain": [
       "            population     density\n",
       "California    38332521   90.413926\n",
       "Texas         26448193   38.018740\n",
       "New York      19651127  139.076746\n",
       "Florida       19552860  114.806121\n",
       "Illinois      12882135   85.883763"
      ]
     },
     "execution_count": 89,
     "metadata": {},
     "output_type": "execute_result"
    }
   ],
   "source": [
    "states[['population', 'density']]"
   ]
  },
  {
   "cell_type": "markdown",
   "id": "41e06a12-fa88-496a-ab69-093a504ec545",
   "metadata": {},
   "source": [
    "Again: This was just a *very* brief overview over the most basic functions of `NumPy` and `pandas`. Check out their documentation if you want to leverage their full potential. (https://pandas.pydata.org/docs/, https://numpy.org/doc/).\n",
    "\n",
    "Keep in mind that they are very powerful tools. Read the documentation and use the built-in help (?) to understand them!\n",
    "\n",
    "In the next sections, we'll apply our knowledge to an example dataset and get to know more tools from our toolboxes."
   ]
  }
 ],
 "metadata": {
  "kernelspec": {
   "display_name": "Python 3 (ipykernel)",
   "language": "python",
   "name": "python3"
  },
  "language_info": {
   "codemirror_mode": {
    "name": "ipython",
    "version": 3
   },
   "file_extension": ".py",
   "mimetype": "text/x-python",
   "name": "python",
   "nbconvert_exporter": "python",
   "pygments_lexer": "ipython3",
   "version": "3.13.7"
  }
 },
 "nbformat": 4,
 "nbformat_minor": 5
}
