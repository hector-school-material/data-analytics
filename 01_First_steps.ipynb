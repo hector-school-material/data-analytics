{
 "cells": [
  {
   "cell_type": "markdown",
   "id": "dc85d434-93c9-4d62-9878-dbf07f071fdc",
   "metadata": {
    "pycharm": {
     "name": "#%% md\n"
    }
   },
   "source": [
    "# Welcome to the HECTOR School Lecture 'Data Analytics'\n",
    "\n",
    "Please read the following instructions carefully and run the commands in order to make sure that your setup is working correctly.\n",
    "\n",
    "If everything is working, feel free to play around with this Jupyter Notebook to get to know Jupyter and how to work with it! We'll be using Jupyter Notebooks throughout the lecture!\n",
    "\n",
    "## Goals of this Section\n",
    "- Make sure that your setup is working correctly.\n",
    "- Have a first glimpse at our toolbox for this module.\n",
    "- Be able to write and run code in Jupyter."
   ]
  },
  {
   "cell_type": "markdown",
   "id": "79f85e5c-f722-407b-8605-ce30670ac419",
   "metadata": {},
   "source": [
    "## First Steps in Jupyter\n",
    "\n",
    "Jupyter will be the tool of our choice for interacting with the Python interpreter.\n",
    "\n",
    "Jupyter allows you to write and execute Python code in an interactive environment inside your browser. Using Jupyter, you can display figures, document results using markdown features, and export your results e.g. in HTML form.\n",
    "\n",
    "Jupyter notebooks consist of 'cells' that include small pieces of text or code (such as this one). There are two main types of cells:\n",
    "- **markdown cells** for documentation using markdown\n",
    "- **code cells** for Python code\n",
    "\n",
    "New cells can be created by pressing `b` (for below) or `a` (for above). You can also simply use the icons on the right side of a cell.\n",
    "\n",
    "A new cell is always a code cell. Switch the type after writing your text in markdown by pressing `esc` first, then `m` OR by using the dropdown menu in the menu bar above.\n",
    "\n",
    "Cells can be edited by double clicking OR by pressing `Enter`.\n",
    "\n",
    "Cells are always run by pressing `Ctrl` + `Enter` (run and do not move cursor) or by `Shift` + `Enter` (run and move cursor to next cell). You can also use the interactive tools at the top of the Jupyter notebook.\n",
    "\n",
    "**Attention**: The order of execution in Jupyter matters! If you rerun earlier cells after later ones have changed variables, results may change!\n",
    "\n",
    "You will see a grey indicator on the left hand side of a cell that shows you the order of its last execution.\n",
    "\n",
    "If you see 'weird' effects, try re-running the entire notebook (`run -> run all cells`)!"
   ]
  },
  {
   "cell_type": "markdown",
   "id": "adef96a5-9297-4575-9db6-93f1e2764839",
   "metadata": {},
   "source": [
    "---\n",
    "### &#x270d; Exercise \n",
    "Create a new cell below this one, above the line.\n",
    "\n",
    "Write a simple calculation - e.g.: 1+2 - and execute it.\n",
    "\n",
    "Then, create another new cell and change it to markdown. We'll proceed when this is working for everybody."
   ]
  },
  {
   "cell_type": "code",
   "execution_count": 1,
   "id": "702fdeee-2e69-41dc-939b-587a893fd309",
   "metadata": {},
   "outputs": [
    {
     "data": {
      "text/plain": [
       "3"
      ]
     },
     "execution_count": 1,
     "metadata": {},
     "output_type": "execute_result"
    }
   ],
   "source": [
    "# YOUR CODE HERE\n",
    "1 + 2"
   ]
  },
  {
   "cell_type": "markdown",
   "id": "4c028a66-59de-4cc2-81d1-ffec408b25f8",
   "metadata": {},
   "source": [
    "---\n"
   ]
  },
  {
   "cell_type": "markdown",
   "id": "2979c175-dcf5-4d2f-8186-0e76dcb5168e",
   "metadata": {
    "pycharm": {
     "name": "#%% md\n"
    }
   },
   "source": [
    "## First steps in Python\n",
    "The following statement is a very simple example. Again, execute it by pressing `Shift` + `Enter`. It will simply print the string provided. Feel free to change the string in the next cell and re-run the command."
   ]
  },
  {
   "cell_type": "code",
   "execution_count": 2,
   "id": "a32fc24a-a4a3-4fe8-b92d-d10f581cfc09",
   "metadata": {
    "pycharm": {
     "name": "#%%\n"
    }
   },
   "outputs": [
    {
     "name": "stdout",
     "output_type": "stream",
     "text": [
      "Hello World\n"
     ]
    }
   ],
   "source": [
    "print('Hello World')"
   ]
  },
  {
   "cell_type": "markdown",
   "id": "3b7b918a-a22f-438b-af6e-1b5a54c979bc",
   "metadata": {
    "pycharm": {
     "name": "#%%\n"
    }
   },
   "source": [
    "The following is another very basic example. Here, we assign values to two variables, add those, and print the result. Note: inside Jupyter Notebook you do not need the `print` command to print results. If a command returns a result, it is printed automatically!"
   ]
  },
  {
   "cell_type": "code",
   "execution_count": 3,
   "id": "f6fe85b0-bc71-4730-8309-973c47c6aeb2",
   "metadata": {
    "pycharm": {
     "name": "#%%\n"
    }
   },
   "outputs": [
    {
     "data": {
      "text/plain": [
       "7"
      ]
     },
     "execution_count": 3,
     "metadata": {},
     "output_type": "execute_result"
    }
   ],
   "source": [
    "a = 3\n",
    "b = 4\n",
    "a + b"
   ]
  },
  {
   "cell_type": "markdown",
   "id": "e60edfc0-d2be-4007-8dfd-3beedab95135",
   "metadata": {},
   "source": [
    "When you write code yourself or play around with this Notebook, you will likely encounter errors. Python typically explains to you as clearly as possible what went wrong with your code. This is illustrated by the following command:"
   ]
  },
  {
   "cell_type": "code",
   "execution_count": 4,
   "id": "779c8a08-534f-4d8f-bcd8-d73b1a9d15c8",
   "metadata": {},
   "outputs": [
    {
     "ename": "NameError",
     "evalue": "name 'c' is not defined",
     "output_type": "error",
     "traceback": [
      "\u001b[1;31m---------------------------------------------------------------------------\u001b[0m",
      "\u001b[1;31mNameError\u001b[0m                                 Traceback (most recent call last)",
      "Cell \u001b[1;32mIn[4], line 1\u001b[0m\n\u001b[1;32m----> 1\u001b[0m a \u001b[38;5;241m+\u001b[39m \u001b[43mc\u001b[49m\n",
      "\u001b[1;31mNameError\u001b[0m: name 'c' is not defined"
     ]
    }
   ],
   "source": [
    "a + c"
   ]
  },
  {
   "cell_type": "markdown",
   "id": "ed4bdd7a-5cd8-40e3-92cc-225ceefe0930",
   "metadata": {},
   "source": [
    "As you can see, the first lines of the error message give you an indication of where the error occured. The last line describes why the error occurred. \n",
    "\n",
    "Try to learn to read these error messages! They will often quickly lead you to what you must do to fix your code."
   ]
  },
  {
   "cell_type": "markdown",
   "id": "0d45ca3d-6d7f-4f74-9306-4d9cf84de570",
   "metadata": {},
   "source": [
    "---\n",
    "### &#x270d; Exercise \n",
    "Fix the statement above such that it can be executed!\n"
   ]
  },
  {
   "cell_type": "code",
   "execution_count": 5,
   "id": "e631ff01-b862-47ca-814c-299183e7579a",
   "metadata": {},
   "outputs": [],
   "source": [
    "c = 4"
   ]
  },
  {
   "cell_type": "code",
   "execution_count": 6,
   "id": "939bd4d1-63c0-4728-aafa-b134b5b0dd4a",
   "metadata": {},
   "outputs": [
    {
     "data": {
      "text/plain": [
       "7"
      ]
     },
     "execution_count": 6,
     "metadata": {},
     "output_type": "execute_result"
    }
   ],
   "source": [
    "a + c"
   ]
  },
  {
   "cell_type": "code",
   "execution_count": null,
   "id": "a753fc1c-c5c2-4923-8587-1797887123fe",
   "metadata": {},
   "outputs": [],
   "source": [
    "# YOUR CODE HERE\n",
    "a = 2"
   ]
  },
  {
   "cell_type": "markdown",
   "id": "5a771ac5-a5f5-4a00-846d-72cea1198ed3",
   "metadata": {},
   "source": [
    "---"
   ]
  },
  {
   "cell_type": "markdown",
   "id": "99e50a66-9cf2-43d2-9d56-a23c8c17057e",
   "metadata": {
    "pycharm": {
     "name": "#%% md\n"
    }
   },
   "source": [
    "## Importing our toolset\n",
    "Python follows a \"batteries included\" approach -- the creators of Python want to provide you with everything you need so that you can quickly start to be productive! In order to use the power of Python, we can import libraries (e.g. \"tools\") which provide all kinds of functionality!\n",
    "\n",
    "During the course, we will use several libraries that support data analysis and visualization. Test whether they are installed correctly by executing the following imports.\n",
    "\n",
    "Note: If the following does not work, close this Jupyter Notebook, go to your terminal and stop the process (`CRTL-C`). Then you need to make sure that you have activated your environment and that you have installed the requirements!"
   ]
  },
  {
   "cell_type": "code",
   "execution_count": 7,
   "id": "4eedd6b1-0162-4b2c-9cbf-2feb25980ac7",
   "metadata": {
    "pycharm": {
     "name": "#%%\n"
    }
   },
   "outputs": [],
   "source": [
    "import pandas as pd # data structures; see https://pandas.pydata.org/\n",
    "import numpy as np # large, multi-dimensional arrays and matrices; see https://numpy.org/\n",
    "import seaborn as sns# data visualization; see https://seaborn.pydata.org/\n",
    "\n",
    "import warnings # we will ignore interpreter outputs that are warnings only (error messages will still be shown)\n",
    "warnings.filterwarnings(\"ignore\")\n",
    "\n",
    "# as you can see above, you can enter comments using the hashtag sign"
   ]
  },
  {
   "cell_type": "markdown",
   "id": "6759e32c-6524-4d7c-9b23-f8f22a7dbaff",
   "metadata": {
    "pycharm": {
     "name": "#%% md\n"
    }
   },
   "source": [
    "## A first example of data visualization\n",
    "Next, we will create an example visualization to test whether the imports are working correctly. The following command assigns an example dataset to a variable (`penguins`)."
   ]
  },
  {
   "cell_type": "code",
   "execution_count": 8,
   "id": "d7af23c1-f8f1-40f1-ad77-8510945ed4de",
   "metadata": {
    "pycharm": {
     "name": "#%%\n"
    }
   },
   "outputs": [],
   "source": [
    "penguins = sns.load_dataset(\"penguins\")"
   ]
  },
  {
   "cell_type": "markdown",
   "id": "d756242b-5172-419c-ace0-cbfde496ff49",
   "metadata": {
    "pycharm": {
     "name": "#%% md\n"
    }
   },
   "source": [
    "To get a preview of that the data looks like, run the following command, which prints a table with the first few rows of the dataset:"
   ]
  },
  {
   "cell_type": "code",
   "execution_count": 9,
   "id": "5fbe8b83-ddfb-4d84-aed1-0f74f52c66b6",
   "metadata": {
    "pycharm": {
     "name": "#%%\n"
    }
   },
   "outputs": [
    {
     "data": {
      "text/html": [
       "<div>\n",
       "<style scoped>\n",
       "    .dataframe tbody tr th:only-of-type {\n",
       "        vertical-align: middle;\n",
       "    }\n",
       "\n",
       "    .dataframe tbody tr th {\n",
       "        vertical-align: top;\n",
       "    }\n",
       "\n",
       "    .dataframe thead th {\n",
       "        text-align: right;\n",
       "    }\n",
       "</style>\n",
       "<table border=\"1\" class=\"dataframe\">\n",
       "  <thead>\n",
       "    <tr style=\"text-align: right;\">\n",
       "      <th></th>\n",
       "      <th>species</th>\n",
       "      <th>island</th>\n",
       "      <th>bill_length_mm</th>\n",
       "      <th>bill_depth_mm</th>\n",
       "      <th>flipper_length_mm</th>\n",
       "      <th>body_mass_g</th>\n",
       "      <th>sex</th>\n",
       "    </tr>\n",
       "  </thead>\n",
       "  <tbody>\n",
       "    <tr>\n",
       "      <th>0</th>\n",
       "      <td>Adelie</td>\n",
       "      <td>Torgersen</td>\n",
       "      <td>39.1</td>\n",
       "      <td>18.7</td>\n",
       "      <td>181.0</td>\n",
       "      <td>3750.0</td>\n",
       "      <td>Male</td>\n",
       "    </tr>\n",
       "    <tr>\n",
       "      <th>1</th>\n",
       "      <td>Adelie</td>\n",
       "      <td>Torgersen</td>\n",
       "      <td>39.5</td>\n",
       "      <td>17.4</td>\n",
       "      <td>186.0</td>\n",
       "      <td>3800.0</td>\n",
       "      <td>Female</td>\n",
       "    </tr>\n",
       "    <tr>\n",
       "      <th>2</th>\n",
       "      <td>Adelie</td>\n",
       "      <td>Torgersen</td>\n",
       "      <td>40.3</td>\n",
       "      <td>18.0</td>\n",
       "      <td>195.0</td>\n",
       "      <td>3250.0</td>\n",
       "      <td>Female</td>\n",
       "    </tr>\n",
       "    <tr>\n",
       "      <th>3</th>\n",
       "      <td>Adelie</td>\n",
       "      <td>Torgersen</td>\n",
       "      <td>NaN</td>\n",
       "      <td>NaN</td>\n",
       "      <td>NaN</td>\n",
       "      <td>NaN</td>\n",
       "      <td>NaN</td>\n",
       "    </tr>\n",
       "    <tr>\n",
       "      <th>4</th>\n",
       "      <td>Adelie</td>\n",
       "      <td>Torgersen</td>\n",
       "      <td>36.7</td>\n",
       "      <td>19.3</td>\n",
       "      <td>193.0</td>\n",
       "      <td>3450.0</td>\n",
       "      <td>Female</td>\n",
       "    </tr>\n",
       "    <tr>\n",
       "      <th>5</th>\n",
       "      <td>Adelie</td>\n",
       "      <td>Torgersen</td>\n",
       "      <td>39.3</td>\n",
       "      <td>20.6</td>\n",
       "      <td>190.0</td>\n",
       "      <td>3650.0</td>\n",
       "      <td>Male</td>\n",
       "    </tr>\n",
       "    <tr>\n",
       "      <th>6</th>\n",
       "      <td>Adelie</td>\n",
       "      <td>Torgersen</td>\n",
       "      <td>38.9</td>\n",
       "      <td>17.8</td>\n",
       "      <td>181.0</td>\n",
       "      <td>3625.0</td>\n",
       "      <td>Female</td>\n",
       "    </tr>\n",
       "    <tr>\n",
       "      <th>7</th>\n",
       "      <td>Adelie</td>\n",
       "      <td>Torgersen</td>\n",
       "      <td>39.2</td>\n",
       "      <td>19.6</td>\n",
       "      <td>195.0</td>\n",
       "      <td>4675.0</td>\n",
       "      <td>Male</td>\n",
       "    </tr>\n",
       "    <tr>\n",
       "      <th>8</th>\n",
       "      <td>Adelie</td>\n",
       "      <td>Torgersen</td>\n",
       "      <td>34.1</td>\n",
       "      <td>18.1</td>\n",
       "      <td>193.0</td>\n",
       "      <td>3475.0</td>\n",
       "      <td>NaN</td>\n",
       "    </tr>\n",
       "    <tr>\n",
       "      <th>9</th>\n",
       "      <td>Adelie</td>\n",
       "      <td>Torgersen</td>\n",
       "      <td>42.0</td>\n",
       "      <td>20.2</td>\n",
       "      <td>190.0</td>\n",
       "      <td>4250.0</td>\n",
       "      <td>NaN</td>\n",
       "    </tr>\n",
       "  </tbody>\n",
       "</table>\n",
       "</div>"
      ],
      "text/plain": [
       "  species     island  bill_length_mm  bill_depth_mm  flipper_length_mm  \\\n",
       "0  Adelie  Torgersen            39.1           18.7              181.0   \n",
       "1  Adelie  Torgersen            39.5           17.4              186.0   \n",
       "2  Adelie  Torgersen            40.3           18.0              195.0   \n",
       "3  Adelie  Torgersen             NaN            NaN                NaN   \n",
       "4  Adelie  Torgersen            36.7           19.3              193.0   \n",
       "5  Adelie  Torgersen            39.3           20.6              190.0   \n",
       "6  Adelie  Torgersen            38.9           17.8              181.0   \n",
       "7  Adelie  Torgersen            39.2           19.6              195.0   \n",
       "8  Adelie  Torgersen            34.1           18.1              193.0   \n",
       "9  Adelie  Torgersen            42.0           20.2              190.0   \n",
       "\n",
       "   body_mass_g     sex  \n",
       "0       3750.0    Male  \n",
       "1       3800.0  Female  \n",
       "2       3250.0  Female  \n",
       "3          NaN     NaN  \n",
       "4       3450.0  Female  \n",
       "5       3650.0    Male  \n",
       "6       3625.0  Female  \n",
       "7       4675.0    Male  \n",
       "8       3475.0     NaN  \n",
       "9       4250.0     NaN  "
      ]
     },
     "execution_count": 9,
     "metadata": {},
     "output_type": "execute_result"
    }
   ],
   "source": [
    "penguins.head(10)"
   ]
  },
  {
   "cell_type": "markdown",
   "id": "6613d9b1-1e3b-4a34-b2de-5aae48a99aa6",
   "metadata": {},
   "source": [
    "You want to know more about a command or how it works? Execute the following and Jupyter will show you the documentation! Once you're familiar with Jupyter and its workings, you don't even need to leave this tab because a lot of documentation is included. Just append a question mark (?) to a variable, command, ... and execute the cell to print its documentation. Hint: Auto complete can be used interactively by placing the coursor in a cell and entering `Tab`."
   ]
  },
  {
   "cell_type": "code",
   "execution_count": 10,
   "id": "fa35a05d-3ab8-4740-8276-fcd039636e7a",
   "metadata": {},
   "outputs": [
    {
     "data": {
      "text/plain": [
       "\u001b[1;31mSignature:\u001b[0m \u001b[0mpenguins\u001b[0m\u001b[1;33m.\u001b[0m\u001b[0mhead\u001b[0m\u001b[1;33m(\u001b[0m\u001b[0mn\u001b[0m\u001b[1;33m:\u001b[0m \u001b[1;34m'int'\u001b[0m \u001b[1;33m=\u001b[0m \u001b[1;36m5\u001b[0m\u001b[1;33m)\u001b[0m \u001b[1;33m->\u001b[0m \u001b[1;34m'Self'\u001b[0m\u001b[1;33m\u001b[0m\u001b[1;33m\u001b[0m\u001b[0m\n",
       "\u001b[1;31mDocstring:\u001b[0m\n",
       "Return the first `n` rows.\n",
       "\n",
       "This function returns the first `n` rows for the object based\n",
       "on position. It is useful for quickly testing if your object\n",
       "has the right type of data in it.\n",
       "\n",
       "For negative values of `n`, this function returns all rows except\n",
       "the last `|n|` rows, equivalent to ``df[:n]``.\n",
       "\n",
       "If n is larger than the number of rows, this function returns all rows.\n",
       "\n",
       "Parameters\n",
       "----------\n",
       "n : int, default 5\n",
       "    Number of rows to select.\n",
       "\n",
       "Returns\n",
       "-------\n",
       "same type as caller\n",
       "    The first `n` rows of the caller object.\n",
       "\n",
       "See Also\n",
       "--------\n",
       "DataFrame.tail: Returns the last `n` rows.\n",
       "\n",
       "Examples\n",
       "--------\n",
       ">>> df = pd.DataFrame({'animal': ['alligator', 'bee', 'falcon', 'lion',\n",
       "...                    'monkey', 'parrot', 'shark', 'whale', 'zebra']})\n",
       ">>> df\n",
       "      animal\n",
       "0  alligator\n",
       "1        bee\n",
       "2     falcon\n",
       "3       lion\n",
       "4     monkey\n",
       "5     parrot\n",
       "6      shark\n",
       "7      whale\n",
       "8      zebra\n",
       "\n",
       "Viewing the first 5 lines\n",
       "\n",
       ">>> df.head()\n",
       "      animal\n",
       "0  alligator\n",
       "1        bee\n",
       "2     falcon\n",
       "3       lion\n",
       "4     monkey\n",
       "\n",
       "Viewing the first `n` lines (three in this case)\n",
       "\n",
       ">>> df.head(3)\n",
       "      animal\n",
       "0  alligator\n",
       "1        bee\n",
       "2     falcon\n",
       "\n",
       "For negative values of `n`\n",
       "\n",
       ">>> df.head(-3)\n",
       "      animal\n",
       "0  alligator\n",
       "1        bee\n",
       "2     falcon\n",
       "3       lion\n",
       "4     monkey\n",
       "5     parrot\n",
       "\u001b[1;31mFile:\u001b[0m      c:\\users\\kglock\\desktop\\jupyter\\2023-10_hector_big_data_methods_final_notebooks\\env\\lib\\site-packages\\pandas\\core\\generic.py\n",
       "\u001b[1;31mType:\u001b[0m      method"
      ]
     },
     "metadata": {},
     "output_type": "display_data"
    }
   ],
   "source": [
    "penguins.head?"
   ]
  },
  {
   "cell_type": "markdown",
   "id": "dcfeac7c-9e3d-4d05-89ba-d9c4d656b284",
   "metadata": {},
   "source": [
    "---\n",
    "### &#x270d; Exercise \n",
    "Did you find the command if you want to print the *last* $n$ rows? Try executing it in the following cell!"
   ]
  },
  {
   "cell_type": "code",
   "execution_count": 11,
   "id": "c0e9fe52-1552-429a-af7b-5429314ed56c",
   "metadata": {},
   "outputs": [
    {
     "data": {
      "text/html": [
       "<div>\n",
       "<style scoped>\n",
       "    .dataframe tbody tr th:only-of-type {\n",
       "        vertical-align: middle;\n",
       "    }\n",
       "\n",
       "    .dataframe tbody tr th {\n",
       "        vertical-align: top;\n",
       "    }\n",
       "\n",
       "    .dataframe thead th {\n",
       "        text-align: right;\n",
       "    }\n",
       "</style>\n",
       "<table border=\"1\" class=\"dataframe\">\n",
       "  <thead>\n",
       "    <tr style=\"text-align: right;\">\n",
       "      <th></th>\n",
       "      <th>species</th>\n",
       "      <th>island</th>\n",
       "      <th>bill_length_mm</th>\n",
       "      <th>bill_depth_mm</th>\n",
       "      <th>flipper_length_mm</th>\n",
       "      <th>body_mass_g</th>\n",
       "      <th>sex</th>\n",
       "    </tr>\n",
       "  </thead>\n",
       "  <tbody>\n",
       "    <tr>\n",
       "      <th>334</th>\n",
       "      <td>Gentoo</td>\n",
       "      <td>Biscoe</td>\n",
       "      <td>46.2</td>\n",
       "      <td>14.1</td>\n",
       "      <td>217.0</td>\n",
       "      <td>4375.0</td>\n",
       "      <td>Female</td>\n",
       "    </tr>\n",
       "    <tr>\n",
       "      <th>335</th>\n",
       "      <td>Gentoo</td>\n",
       "      <td>Biscoe</td>\n",
       "      <td>55.1</td>\n",
       "      <td>16.0</td>\n",
       "      <td>230.0</td>\n",
       "      <td>5850.0</td>\n",
       "      <td>Male</td>\n",
       "    </tr>\n",
       "    <tr>\n",
       "      <th>336</th>\n",
       "      <td>Gentoo</td>\n",
       "      <td>Biscoe</td>\n",
       "      <td>44.5</td>\n",
       "      <td>15.7</td>\n",
       "      <td>217.0</td>\n",
       "      <td>4875.0</td>\n",
       "      <td>NaN</td>\n",
       "    </tr>\n",
       "    <tr>\n",
       "      <th>337</th>\n",
       "      <td>Gentoo</td>\n",
       "      <td>Biscoe</td>\n",
       "      <td>48.8</td>\n",
       "      <td>16.2</td>\n",
       "      <td>222.0</td>\n",
       "      <td>6000.0</td>\n",
       "      <td>Male</td>\n",
       "    </tr>\n",
       "    <tr>\n",
       "      <th>338</th>\n",
       "      <td>Gentoo</td>\n",
       "      <td>Biscoe</td>\n",
       "      <td>47.2</td>\n",
       "      <td>13.7</td>\n",
       "      <td>214.0</td>\n",
       "      <td>4925.0</td>\n",
       "      <td>Female</td>\n",
       "    </tr>\n",
       "    <tr>\n",
       "      <th>339</th>\n",
       "      <td>Gentoo</td>\n",
       "      <td>Biscoe</td>\n",
       "      <td>NaN</td>\n",
       "      <td>NaN</td>\n",
       "      <td>NaN</td>\n",
       "      <td>NaN</td>\n",
       "      <td>NaN</td>\n",
       "    </tr>\n",
       "    <tr>\n",
       "      <th>340</th>\n",
       "      <td>Gentoo</td>\n",
       "      <td>Biscoe</td>\n",
       "      <td>46.8</td>\n",
       "      <td>14.3</td>\n",
       "      <td>215.0</td>\n",
       "      <td>4850.0</td>\n",
       "      <td>Female</td>\n",
       "    </tr>\n",
       "    <tr>\n",
       "      <th>341</th>\n",
       "      <td>Gentoo</td>\n",
       "      <td>Biscoe</td>\n",
       "      <td>50.4</td>\n",
       "      <td>15.7</td>\n",
       "      <td>222.0</td>\n",
       "      <td>5750.0</td>\n",
       "      <td>Male</td>\n",
       "    </tr>\n",
       "    <tr>\n",
       "      <th>342</th>\n",
       "      <td>Gentoo</td>\n",
       "      <td>Biscoe</td>\n",
       "      <td>45.2</td>\n",
       "      <td>14.8</td>\n",
       "      <td>212.0</td>\n",
       "      <td>5200.0</td>\n",
       "      <td>Female</td>\n",
       "    </tr>\n",
       "    <tr>\n",
       "      <th>343</th>\n",
       "      <td>Gentoo</td>\n",
       "      <td>Biscoe</td>\n",
       "      <td>49.9</td>\n",
       "      <td>16.1</td>\n",
       "      <td>213.0</td>\n",
       "      <td>5400.0</td>\n",
       "      <td>Male</td>\n",
       "    </tr>\n",
       "  </tbody>\n",
       "</table>\n",
       "</div>"
      ],
      "text/plain": [
       "    species  island  bill_length_mm  bill_depth_mm  flipper_length_mm  \\\n",
       "334  Gentoo  Biscoe            46.2           14.1              217.0   \n",
       "335  Gentoo  Biscoe            55.1           16.0              230.0   \n",
       "336  Gentoo  Biscoe            44.5           15.7              217.0   \n",
       "337  Gentoo  Biscoe            48.8           16.2              222.0   \n",
       "338  Gentoo  Biscoe            47.2           13.7              214.0   \n",
       "339  Gentoo  Biscoe             NaN            NaN                NaN   \n",
       "340  Gentoo  Biscoe            46.8           14.3              215.0   \n",
       "341  Gentoo  Biscoe            50.4           15.7              222.0   \n",
       "342  Gentoo  Biscoe            45.2           14.8              212.0   \n",
       "343  Gentoo  Biscoe            49.9           16.1              213.0   \n",
       "\n",
       "     body_mass_g     sex  \n",
       "334       4375.0  Female  \n",
       "335       5850.0    Male  \n",
       "336       4875.0     NaN  \n",
       "337       6000.0    Male  \n",
       "338       4925.0  Female  \n",
       "339          NaN     NaN  \n",
       "340       4850.0  Female  \n",
       "341       5750.0    Male  \n",
       "342       5200.0  Female  \n",
       "343       5400.0    Male  "
      ]
     },
     "execution_count": 11,
     "metadata": {},
     "output_type": "execute_result"
    }
   ],
   "source": [
    "# YOUR CODE HERE\n",
    "penguins.tail(10)"
   ]
  },
  {
   "cell_type": "markdown",
   "id": "87590113-02f4-4393-bccf-440d72b055dd",
   "metadata": {},
   "source": [
    "\n",
    "\n",
    "---"
   ]
  },
  {
   "cell_type": "markdown",
   "id": "7e8883d8-0008-4c01-810a-998d0401bbc3",
   "metadata": {},
   "source": [
    "Now we create a simple visualization in order to get a feeling for our data! Let's first use a histogramm of the flipper lenghts!"
   ]
  },
  {
   "cell_type": "code",
   "execution_count": 12,
   "id": "89772f3a-306f-4fc4-ba4f-b0c06160bbc7",
   "metadata": {},
   "outputs": [
    {
     "data": {
      "text/plain": [
       "\u001b[1;31mSignature:\u001b[0m\n",
       "\u001b[0msns\u001b[0m\u001b[1;33m.\u001b[0m\u001b[0mhistplot\u001b[0m\u001b[1;33m(\u001b[0m\u001b[1;33m\n",
       "\u001b[0m    \u001b[0mdata\u001b[0m\u001b[1;33m=\u001b[0m\u001b[1;32mNone\u001b[0m\u001b[1;33m,\u001b[0m\u001b[1;33m\n",
       "\u001b[0m    \u001b[1;33m*\u001b[0m\u001b[1;33m,\u001b[0m\u001b[1;33m\n",
       "\u001b[0m    \u001b[0mx\u001b[0m\u001b[1;33m=\u001b[0m\u001b[1;32mNone\u001b[0m\u001b[1;33m,\u001b[0m\u001b[1;33m\n",
       "\u001b[0m    \u001b[0my\u001b[0m\u001b[1;33m=\u001b[0m\u001b[1;32mNone\u001b[0m\u001b[1;33m,\u001b[0m\u001b[1;33m\n",
       "\u001b[0m    \u001b[0mhue\u001b[0m\u001b[1;33m=\u001b[0m\u001b[1;32mNone\u001b[0m\u001b[1;33m,\u001b[0m\u001b[1;33m\n",
       "\u001b[0m    \u001b[0mweights\u001b[0m\u001b[1;33m=\u001b[0m\u001b[1;32mNone\u001b[0m\u001b[1;33m,\u001b[0m\u001b[1;33m\n",
       "\u001b[0m    \u001b[0mstat\u001b[0m\u001b[1;33m=\u001b[0m\u001b[1;34m'count'\u001b[0m\u001b[1;33m,\u001b[0m\u001b[1;33m\n",
       "\u001b[0m    \u001b[0mbins\u001b[0m\u001b[1;33m=\u001b[0m\u001b[1;34m'auto'\u001b[0m\u001b[1;33m,\u001b[0m\u001b[1;33m\n",
       "\u001b[0m    \u001b[0mbinwidth\u001b[0m\u001b[1;33m=\u001b[0m\u001b[1;32mNone\u001b[0m\u001b[1;33m,\u001b[0m\u001b[1;33m\n",
       "\u001b[0m    \u001b[0mbinrange\u001b[0m\u001b[1;33m=\u001b[0m\u001b[1;32mNone\u001b[0m\u001b[1;33m,\u001b[0m\u001b[1;33m\n",
       "\u001b[0m    \u001b[0mdiscrete\u001b[0m\u001b[1;33m=\u001b[0m\u001b[1;32mNone\u001b[0m\u001b[1;33m,\u001b[0m\u001b[1;33m\n",
       "\u001b[0m    \u001b[0mcumulative\u001b[0m\u001b[1;33m=\u001b[0m\u001b[1;32mFalse\u001b[0m\u001b[1;33m,\u001b[0m\u001b[1;33m\n",
       "\u001b[0m    \u001b[0mcommon_bins\u001b[0m\u001b[1;33m=\u001b[0m\u001b[1;32mTrue\u001b[0m\u001b[1;33m,\u001b[0m\u001b[1;33m\n",
       "\u001b[0m    \u001b[0mcommon_norm\u001b[0m\u001b[1;33m=\u001b[0m\u001b[1;32mTrue\u001b[0m\u001b[1;33m,\u001b[0m\u001b[1;33m\n",
       "\u001b[0m    \u001b[0mmultiple\u001b[0m\u001b[1;33m=\u001b[0m\u001b[1;34m'layer'\u001b[0m\u001b[1;33m,\u001b[0m\u001b[1;33m\n",
       "\u001b[0m    \u001b[0melement\u001b[0m\u001b[1;33m=\u001b[0m\u001b[1;34m'bars'\u001b[0m\u001b[1;33m,\u001b[0m\u001b[1;33m\n",
       "\u001b[0m    \u001b[0mfill\u001b[0m\u001b[1;33m=\u001b[0m\u001b[1;32mTrue\u001b[0m\u001b[1;33m,\u001b[0m\u001b[1;33m\n",
       "\u001b[0m    \u001b[0mshrink\u001b[0m\u001b[1;33m=\u001b[0m\u001b[1;36m1\u001b[0m\u001b[1;33m,\u001b[0m\u001b[1;33m\n",
       "\u001b[0m    \u001b[0mkde\u001b[0m\u001b[1;33m=\u001b[0m\u001b[1;32mFalse\u001b[0m\u001b[1;33m,\u001b[0m\u001b[1;33m\n",
       "\u001b[0m    \u001b[0mkde_kws\u001b[0m\u001b[1;33m=\u001b[0m\u001b[1;32mNone\u001b[0m\u001b[1;33m,\u001b[0m\u001b[1;33m\n",
       "\u001b[0m    \u001b[0mline_kws\u001b[0m\u001b[1;33m=\u001b[0m\u001b[1;32mNone\u001b[0m\u001b[1;33m,\u001b[0m\u001b[1;33m\n",
       "\u001b[0m    \u001b[0mthresh\u001b[0m\u001b[1;33m=\u001b[0m\u001b[1;36m0\u001b[0m\u001b[1;33m,\u001b[0m\u001b[1;33m\n",
       "\u001b[0m    \u001b[0mpthresh\u001b[0m\u001b[1;33m=\u001b[0m\u001b[1;32mNone\u001b[0m\u001b[1;33m,\u001b[0m\u001b[1;33m\n",
       "\u001b[0m    \u001b[0mpmax\u001b[0m\u001b[1;33m=\u001b[0m\u001b[1;32mNone\u001b[0m\u001b[1;33m,\u001b[0m\u001b[1;33m\n",
       "\u001b[0m    \u001b[0mcbar\u001b[0m\u001b[1;33m=\u001b[0m\u001b[1;32mFalse\u001b[0m\u001b[1;33m,\u001b[0m\u001b[1;33m\n",
       "\u001b[0m    \u001b[0mcbar_ax\u001b[0m\u001b[1;33m=\u001b[0m\u001b[1;32mNone\u001b[0m\u001b[1;33m,\u001b[0m\u001b[1;33m\n",
       "\u001b[0m    \u001b[0mcbar_kws\u001b[0m\u001b[1;33m=\u001b[0m\u001b[1;32mNone\u001b[0m\u001b[1;33m,\u001b[0m\u001b[1;33m\n",
       "\u001b[0m    \u001b[0mpalette\u001b[0m\u001b[1;33m=\u001b[0m\u001b[1;32mNone\u001b[0m\u001b[1;33m,\u001b[0m\u001b[1;33m\n",
       "\u001b[0m    \u001b[0mhue_order\u001b[0m\u001b[1;33m=\u001b[0m\u001b[1;32mNone\u001b[0m\u001b[1;33m,\u001b[0m\u001b[1;33m\n",
       "\u001b[0m    \u001b[0mhue_norm\u001b[0m\u001b[1;33m=\u001b[0m\u001b[1;32mNone\u001b[0m\u001b[1;33m,\u001b[0m\u001b[1;33m\n",
       "\u001b[0m    \u001b[0mcolor\u001b[0m\u001b[1;33m=\u001b[0m\u001b[1;32mNone\u001b[0m\u001b[1;33m,\u001b[0m\u001b[1;33m\n",
       "\u001b[0m    \u001b[0mlog_scale\u001b[0m\u001b[1;33m=\u001b[0m\u001b[1;32mNone\u001b[0m\u001b[1;33m,\u001b[0m\u001b[1;33m\n",
       "\u001b[0m    \u001b[0mlegend\u001b[0m\u001b[1;33m=\u001b[0m\u001b[1;32mTrue\u001b[0m\u001b[1;33m,\u001b[0m\u001b[1;33m\n",
       "\u001b[0m    \u001b[0max\u001b[0m\u001b[1;33m=\u001b[0m\u001b[1;32mNone\u001b[0m\u001b[1;33m,\u001b[0m\u001b[1;33m\n",
       "\u001b[0m    \u001b[1;33m**\u001b[0m\u001b[0mkwargs\u001b[0m\u001b[1;33m,\u001b[0m\u001b[1;33m\n",
       "\u001b[0m\u001b[1;33m)\u001b[0m\u001b[1;33m\u001b[0m\u001b[1;33m\u001b[0m\u001b[0m\n",
       "\u001b[1;31mDocstring:\u001b[0m\n",
       "Plot univariate or bivariate histograms to show distributions of datasets.\n",
       "\n",
       "A histogram is a classic visualization tool that represents the distribution\n",
       "of one or more variables by counting the number of observations that fall within\n",
       "discrete bins.\n",
       "\n",
       "This function can normalize the statistic computed within each bin to estimate\n",
       "frequency, density or probability mass, and it can add a smooth curve obtained\n",
       "using a kernel density estimate, similar to :func:`kdeplot`.\n",
       "\n",
       "More information is provided in the :ref:`user guide <tutorial_hist>`.\n",
       "\n",
       "Parameters\n",
       "----------\n",
       "data : :class:`pandas.DataFrame`, :class:`numpy.ndarray`, mapping, or sequence\n",
       "    Input data structure. Either a long-form collection of vectors that can be\n",
       "    assigned to named variables or a wide-form dataset that will be internally\n",
       "    reshaped.\n",
       "x, y : vectors or keys in ``data``\n",
       "    Variables that specify positions on the x and y axes.\n",
       "hue : vector or key in ``data``\n",
       "    Semantic variable that is mapped to determine the color of plot elements.\n",
       "weights : vector or key in ``data``\n",
       "    If provided, weight the contribution of the corresponding data points\n",
       "    towards the count in each bin by these factors.\n",
       "stat : str\n",
       "    Aggregate statistic to compute in each bin.\n",
       "    \n",
       "    - `count`: show the number of observations in each bin\n",
       "    - `frequency`: show the number of observations divided by the bin width\n",
       "    - `probability` or `proportion`: normalize such that bar heights sum to 1\n",
       "    - `percent`: normalize such that bar heights sum to 100\n",
       "    - `density`: normalize such that the total area of the histogram equals 1\n",
       "bins : str, number, vector, or a pair of such values\n",
       "    Generic bin parameter that can be the name of a reference rule,\n",
       "    the number of bins, or the breaks of the bins.\n",
       "    Passed to :func:`numpy.histogram_bin_edges`.\n",
       "binwidth : number or pair of numbers\n",
       "    Width of each bin, overrides ``bins`` but can be used with\n",
       "    ``binrange``.\n",
       "binrange : pair of numbers or a pair of pairs\n",
       "    Lowest and highest value for bin edges; can be used either\n",
       "    with ``bins`` or ``binwidth``. Defaults to data extremes.\n",
       "discrete : bool\n",
       "    If True, default to ``binwidth=1`` and draw the bars so that they are\n",
       "    centered on their corresponding data points. This avoids \"gaps\" that may\n",
       "    otherwise appear when using discrete (integer) data.\n",
       "cumulative : bool\n",
       "    If True, plot the cumulative counts as bins increase.\n",
       "common_bins : bool\n",
       "    If True, use the same bins when semantic variables produce multiple\n",
       "    plots. If using a reference rule to determine the bins, it will be computed\n",
       "    with the full dataset.\n",
       "common_norm : bool\n",
       "    If True and using a normalized statistic, the normalization will apply over\n",
       "    the full dataset. Otherwise, normalize each histogram independently.\n",
       "multiple : {\"layer\", \"dodge\", \"stack\", \"fill\"}\n",
       "    Approach to resolving multiple elements when semantic mapping creates subsets.\n",
       "    Only relevant with univariate data.\n",
       "element : {\"bars\", \"step\", \"poly\"}\n",
       "    Visual representation of the histogram statistic.\n",
       "    Only relevant with univariate data.\n",
       "fill : bool\n",
       "    If True, fill in the space under the histogram.\n",
       "    Only relevant with univariate data.\n",
       "shrink : number\n",
       "    Scale the width of each bar relative to the binwidth by this factor.\n",
       "    Only relevant with univariate data.\n",
       "kde : bool\n",
       "    If True, compute a kernel density estimate to smooth the distribution\n",
       "    and show on the plot as (one or more) line(s).\n",
       "    Only relevant with univariate data.\n",
       "kde_kws : dict\n",
       "    Parameters that control the KDE computation, as in :func:`kdeplot`.\n",
       "line_kws : dict\n",
       "    Parameters that control the KDE visualization, passed to\n",
       "    :meth:`matplotlib.axes.Axes.plot`.\n",
       "thresh : number or None\n",
       "    Cells with a statistic less than or equal to this value will be transparent.\n",
       "    Only relevant with bivariate data.\n",
       "pthresh : number or None\n",
       "    Like ``thresh``, but a value in [0, 1] such that cells with aggregate counts\n",
       "    (or other statistics, when used) up to this proportion of the total will be\n",
       "    transparent.\n",
       "pmax : number or None\n",
       "    A value in [0, 1] that sets that saturation point for the colormap at a value\n",
       "    such that cells below constitute this proportion of the total count (or\n",
       "    other statistic, when used).\n",
       "cbar : bool\n",
       "    If True, add a colorbar to annotate the color mapping in a bivariate plot.\n",
       "    Note: Does not currently support plots with a ``hue`` variable well.\n",
       "cbar_ax : :class:`matplotlib.axes.Axes`\n",
       "    Pre-existing axes for the colorbar.\n",
       "cbar_kws : dict\n",
       "    Additional parameters passed to :meth:`matplotlib.figure.Figure.colorbar`.\n",
       "palette : string, list, dict, or :class:`matplotlib.colors.Colormap`\n",
       "    Method for choosing the colors to use when mapping the ``hue`` semantic.\n",
       "    String values are passed to :func:`color_palette`. List or dict values\n",
       "    imply categorical mapping, while a colormap object implies numeric mapping.\n",
       "hue_order : vector of strings\n",
       "    Specify the order of processing and plotting for categorical levels of the\n",
       "    ``hue`` semantic.\n",
       "hue_norm : tuple or :class:`matplotlib.colors.Normalize`\n",
       "    Either a pair of values that set the normalization range in data units\n",
       "    or an object that will map from data units into a [0, 1] interval. Usage\n",
       "    implies numeric mapping.\n",
       "color : :mod:`matplotlib color <matplotlib.colors>`\n",
       "    Single color specification for when hue mapping is not used. Otherwise, the\n",
       "    plot will try to hook into the matplotlib property cycle.\n",
       "log_scale : bool or number, or pair of bools or numbers\n",
       "    Set axis scale(s) to log. A single value sets the data axis for any numeric\n",
       "    axes in the plot. A pair of values sets each axis independently.\n",
       "    Numeric values are interpreted as the desired base (default 10).\n",
       "    When `None` or `False`, seaborn defers to the existing Axes scale.\n",
       "legend : bool\n",
       "    If False, suppress the legend for semantic variables.\n",
       "ax : :class:`matplotlib.axes.Axes`\n",
       "    Pre-existing axes for the plot. Otherwise, call :func:`matplotlib.pyplot.gca`\n",
       "    internally.\n",
       "kwargs\n",
       "    Other keyword arguments are passed to one of the following matplotlib\n",
       "    functions:\n",
       "\n",
       "    - :meth:`matplotlib.axes.Axes.bar` (univariate, element=\"bars\")\n",
       "    - :meth:`matplotlib.axes.Axes.fill_between` (univariate, other element, fill=True)\n",
       "    - :meth:`matplotlib.axes.Axes.plot` (univariate, other element, fill=False)\n",
       "    - :meth:`matplotlib.axes.Axes.pcolormesh` (bivariate)\n",
       "\n",
       "Returns\n",
       "-------\n",
       ":class:`matplotlib.axes.Axes`\n",
       "    The matplotlib axes containing the plot.\n",
       "\n",
       "See Also\n",
       "--------\n",
       "displot : Figure-level interface to distribution plot functions.\n",
       "kdeplot : Plot univariate or bivariate distributions using kernel density estimation.\n",
       "rugplot : Plot a tick at each observation value along the x and/or y axes.\n",
       "ecdfplot : Plot empirical cumulative distribution functions.\n",
       "jointplot : Draw a bivariate plot with univariate marginal distributions.\n",
       "\n",
       "Notes\n",
       "-----\n",
       "\n",
       "The choice of bins for computing and plotting a histogram can exert\n",
       "substantial influence on the insights that one is able to draw from the\n",
       "visualization. If the bins are too large, they may erase important features.\n",
       "On the other hand, bins that are too small may be dominated by random\n",
       "variability, obscuring the shape of the true underlying distribution. The\n",
       "default bin size is determined using a reference rule that depends on the\n",
       "sample size and variance. This works well in many cases, (i.e., with\n",
       "\"well-behaved\" data) but it fails in others. It is always a good to try\n",
       "different bin sizes to be sure that you are not missing something important.\n",
       "This function allows you to specify bins in several different ways, such as\n",
       "by setting the total number of bins to use, the width of each bin, or the\n",
       "specific locations where the bins should break.\n",
       "\n",
       "Examples\n",
       "--------\n",
       "\n",
       ".. include:: ../docstrings/histplot.rst\n",
       "\u001b[1;31mFile:\u001b[0m      c:\\users\\kglock\\desktop\\jupyter\\2023-10_hector_big_data_methods_final_notebooks\\env\\lib\\site-packages\\seaborn\\distributions.py\n",
       "\u001b[1;31mType:\u001b[0m      function"
      ]
     },
     "metadata": {},
     "output_type": "display_data"
    }
   ],
   "source": [
    "sns.histplot?"
   ]
  },
  {
   "cell_type": "code",
   "execution_count": 13,
   "id": "3fd56d99-6163-4fbb-b5eb-e26cdf8dc292",
   "metadata": {
    "pycharm": {
     "name": "#%%\n"
    }
   },
   "outputs": [
    {
     "data": {
      "text/plain": [
       "<Axes: xlabel='flipper_length_mm', ylabel='Count'>"
      ]
     },
     "execution_count": 13,
     "metadata": {},
     "output_type": "execute_result"
    },
    {
     "data": {
      "image/png": "[encoded data removed]",
      "text/plain": [
       "<Figure size 640x480 with 1 Axes>"
      ]
     },
     "metadata": {},
     "output_type": "display_data"
    }
   ],
   "source": [
    "# Create a visualization -- in this case, a histogramm of flipper length values\n",
    "sns.histplot(data=penguins, x=\"flipper_length_mm\")"
   ]
  },
  {
   "cell_type": "markdown",
   "id": "70dc36a7-b07a-405d-b039-1c578ada1316",
   "metadata": {},
   "source": [
    "As you can see, we use seaborn's function `histplot` to create a histogram. We need to provide it with the data and tell it, which property (column of the table) to show.\n"
   ]
  },
  {
   "cell_type": "markdown",
   "id": "705d00c7-3314-4991-a035-31ddb4428090",
   "metadata": {},
   "source": [
    "---\n",
    "### &#x270d; Exercise \n",
    "\n",
    "1. Please use the above example plot to show the distribution of the penguins' body mass!\n",
    "\n",
    "2. You have now seen how basic plotting works in Python. Can you now create another kind of plot which shows the relationship between two different properties of the penguins? (Tip: Use a scatter plot!)"
   ]
  },
  {
   "cell_type": "code",
   "execution_count": 14,
   "id": "32a140a7-e7f6-4d14-8e1a-fea8c9a1c629",
   "metadata": {},
   "outputs": [
    {
     "data": {
      "text/plain": [
       "<Axes: xlabel='body_mass_g', ylabel='Count'>"
      ]
     },
     "execution_count": 14,
     "metadata": {},
     "output_type": "execute_result"
    },
    {
     "data": {
      "image/png": "[encoded data removed]",
      "text/plain": [
       "<Figure size 640x480 with 1 Axes>"
      ]
     },
     "metadata": {},
     "output_type": "display_data"
    }
   ],
   "source": [
    "# 1. Create a new histogram \n",
    "sns.histplot(data=penguins, x=\"body_mass_g\")"
   ]
  },
  {
   "cell_type": "code",
   "execution_count": 15,
   "id": "48b9c803-b19a-4fb2-916b-9dcbc38570f5",
   "metadata": {
    "pycharm": {
     "name": "#%%\n"
    }
   },
   "outputs": [
    {
     "data": {
      "text/plain": [
       "<Axes: xlabel='body_mass_g', ylabel='flipper_length_mm'>"
      ]
     },
     "execution_count": 15,
     "metadata": {},
     "output_type": "execute_result"
    },
    {
     "data": {
      "image/png": "[encoded data removed]",
      "text/plain": [
       "<Figure size 640x480 with 1 Axes>"
      ]
     },
     "metadata": {},
     "output_type": "display_data"
    }
   ],
   "source": [
    "# 2. Show the relationship between body weight and flipper length in a new plot\n",
    "sns.scatterplot(data=penguins, x=\"body_mass_g\", y=\"flipper_length_mm\")"
   ]
  },
  {
   "cell_type": "markdown",
   "id": "1d682d08-eeec-4b05-a020-dac4de1178e4",
   "metadata": {},
   "source": [
    "---"
   ]
  },
  {
   "cell_type": "markdown",
   "id": "bea3f726-ae1a-4857-b297-3b21bf56b759",
   "metadata": {
    "pycharm": {
     "name": "#%%\n"
    }
   },
   "source": [
    "Does the data look random to you? Or can you see a kind of pattern? Try to describe what you see and how the data might correlate.\n",
    "\n",
    "In the course you'll learn how to use Jupyter and statistical methods to make sense of data and describe it using different metrics!"
   ]
  }
 ],
 "metadata": {
  "kernelspec": {
   "display_name": "Python 3 (ipykernel)",
   "language": "python",
   "name": "python3"
  },
  "language_info": {
   "codemirror_mode": {
    "name": "ipython",
    "version": 3
   },
   "file_extension": ".py",
   "mimetype": "text/x-python",
   "name": "python",
   "nbconvert_exporter": "python",
   "pygments_lexer": "ipython3",
   "version": "3.13.7"
  }
 },
 "nbformat": 4,
 "nbformat_minor": 5
}
